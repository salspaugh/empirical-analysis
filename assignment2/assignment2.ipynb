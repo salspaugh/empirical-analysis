{
 "metadata": {
  "name": "",
  "signature": "sha256:689a4f8271e962ee3b4ed368e71c0b097c30c75231456e03deb226a4496a55e7"
 },
 "nbformat": 3,
 "nbformat_minor": 0,
 "worksheets": [
  {
   "cells": [
    {
     "cell_type": "heading",
     "level": 3,
     "metadata": {},
     "source": [
      "Step 1: Parse the data"
     ]
    },
    {
     "cell_type": "markdown",
     "metadata": {},
     "source": [
      "Import the required modules and define path to dataset."
     ]
    },
    {
     "cell_type": "code",
     "collapsed": false,
     "input": [
      "import collections\n",
      "import matplotlib.pyplot as plt\n",
      "import numpy as np\n",
      "import os\n",
      "import os.path\n",
      "import re\n",
      "import string\n",
      "import sys\n",
      "\n",
      "%matplotlib inline\n",
      "\n",
      "DATA_DIR = \"routing-measurements\""
     ],
     "language": "python",
     "metadata": {},
     "outputs": [],
     "prompt_number": 87
    },
    {
     "cell_type": "markdown",
     "metadata": {},
     "source": [
      "Define classes to parse and represent traceroute measurement data."
     ]
    },
    {
     "cell_type": "code",
     "collapsed": false,
     "input": [
      "class ErrorFlag(object):\n",
      "    \n",
      "    NOERR_OK = \"NOERR_OK\"\n",
      "    COULDNT_EXEC = \"COULDNT_EXEC\"\n",
      "    UNKNOWN_HOST = \"UNKNOWN_HOST\"\n",
      "    LIB_NOT_FOUND = \"LIB_NOT_FOUND\"\n",
      "    \n",
      "class ProbeNote(object):\n",
      "    \n",
      "    HOST_UNREACHABLE = \"!H\"\n",
      "    NETWORK_UNREACHABLE = \"!N\"\n",
      "    PROTOCOL_UNREACHABLE = \"!P\"\n",
      "    SOURCE_ROUTE_FAILED = \"!S\"\n",
      "    FRAGMENTATION_NEEDED = \"!F\"\n",
      "    ADMIN_PROHIBITED = \"!X\"\n",
      "    HOST_PRECEDENCE_VIOLATION = \"!V\"\n",
      "    PRECEDENCE_CUTOFF = \"!C\"\n",
      "    ICMP_UNREACHABLE = re.compile(\"![\\d]+\")\n",
      "    TTL_CHANGED = re.compile(\"\\(ttl\\=[\\d]+!\\)\")\n",
      "  \n",
      "ProbeNotes = {\n",
      "    \"!H\": ProbeNote.HOST_UNREACHABLE,\n",
      "    \"!N\": ProbeNote.NETWORK_UNREACHABLE,\n",
      "    \"!P\": ProbeNote.PROTOCOL_UNREACHABLE,\n",
      "    \"!S\": ProbeNote.SOURCE_ROUTE_FAILED,\n",
      "    \"!F\": ProbeNote.FRAGMENTATION_NEEDED,\n",
      "    \"!X\": ProbeNote.ADMIN_PROHIBITED,\n",
      "    \"!V\": ProbeNote.HOST_PRECEDENCE_VIOLATION,\n",
      "    \"!C\": ProbeNote.PRECEDENCE_CUTOFF\n",
      "}\n",
      "\n",
      "def valid_hostname(s):\n",
      "    for c in s:\n",
      "        if c not in string.ascii_letters + '.-' + string.digits:\n",
      "            return False\n",
      "    return True\n",
      "        \n",
      "def valid_ipaddr(s):\n",
      "    for c in s:\n",
      "        if c not in string.digits + '.':\n",
      "            return False\n",
      "    return True\n",
      "    \n",
      "def valid_float(s):\n",
      "    try:\n",
      "        float(s)\n",
      "        return True\n",
      "    except:\n",
      "        return False\n",
      "    \n",
      "class Traceroute(object):\n",
      "    \"\"\"\n",
      "    Contains information returned from the execution of a traceroute.\n",
      "    \"\"\"\n",
      "    \n",
      "    def __init__(self, traceroute_header, run=None, dirname=None, filename=None):\n",
      "        self.run = run\n",
      "        self.dirname = dirname\n",
      "        self.filename = filename\n",
      "        \n",
      "        direction = None\n",
      "        try:\n",
      "            dst, ts, direction = filename.split('.')\n",
      "        except:\n",
      "            dst, ts = filename.split('.')\n",
      "        self.srcnet = dirname\n",
      "        self.dstnet = dst\n",
      "        self.timestamp = ts\n",
      "        self.direction = direction\n",
      "        \n",
      "        hn, ip, max_nhops, sz, err = self.parse_header(traceroute_header)\n",
      "        self.dst_hostname = hn\n",
      "        self.dst_ipaddr = ip\n",
      "        self.max_nhops = max_nhops\n",
      "        self.packetsz = sz\n",
      "        self.hops = []\n",
      "        self.errflag = err\n",
      "        self.raw = \"\"\n",
      "    \n",
      "    def parse_header(self, header):\n",
      "        \"\"\"\n",
      "        Parses the important info out of traceroute headers.\n",
      "        \n",
      "        When traceroute works the header should look something like:\n",
      "            \n",
      "            traceroute to betelgeuse.advanced.org (199.222.103.10), 30 hops max, 40 byte packets\n",
      "            \n",
      "        Sometimes commas are missing so we strip those.\n",
      "        \n",
      "        When it fails something like one of the following is returned:\n",
      "        \n",
      "            traceroute: unknown host pub01.va.pubnix.com\n",
      "            /local/etc/traceroute: unknown host rood.sci.kun.nl\n",
      "            npd: couldn't exec /cs/research/mice/speedy/common/sun4/bin/traceroute (errno = 2)\n",
      "            /shlib/libc_s.2.0: not found\n",
      "        \"\"\"\n",
      "        \n",
      "        if header.find(\"traceroute: unknown host\") > -1:\n",
      "            hostname = header.strip().split()[-1]\n",
      "            if not valid_hostname(hostname):\n",
      "                print header\n",
      "                raise RuntimeError(\"Invalid hostname.\")\n",
      "            return hostname.lower(), None, None, None, ErrorFlag.UNKNOWN_HOST\n",
      "        \n",
      "        if header.find(\"couldn't exec\") > -1:\n",
      "            return None, None, None, None, ErrorFlag.COULDNT_EXEC\n",
      "        \n",
      "        if header.find(\"not found\") > -1:\n",
      "            return None, None, None, None, ErrorFlag.LIB_NOT_FOUND\n",
      "        \n",
      "        header = header.replace(',', '')\n",
      "        parts = header.strip().split()\n",
      "        hostname = parts[2]\n",
      "        if not valid_hostname(hostname):\n",
      "            print header\n",
      "            raise RuntimeError(\"Invalid hostname.\")\n",
      "        ipaddr = parts[3].strip(',').strip('(').strip(')')\n",
      "        if not valid_ipaddr(ipaddr):\n",
      "            print header\n",
      "            raise RuntimeError(\"Invalid IP address.\")\n",
      "        nhops = int(parts[4])\n",
      "        packetsz = int(parts[7])\n",
      "        return hostname.lower(), ipaddr, nhops, packetsz, ErrorFlag.NOERR_OK\n",
      "        \n",
      "        \n",
      "class Hop(object):\n",
      "    \n",
      "    def __init__(self, traceroute_hop):\n",
      "        ipaddr, probes = self.parse_hop(traceroute_hop)\n",
      "        self.ipaddr = ipaddr\n",
      "        self.probes = probes\n",
      "        self.raw = traceroute_hop\n",
      "    \n",
      "    def parse_hop(self, hop):\n",
      "        \"\"\"\n",
      "        Parse a traceroute hop line.\n",
      "        \n",
      "        This line can look like any of the following and more:\n",
      "            13  * * *\n",
      "            14  * * 204.70.35.5  185 ms !H\n",
      "            15  * * 204.70.35.5  188 ms !H\n",
      "            16  * 204.70.35.5  187 ms !H *\n",
      "            1  134.148.96.250  4 ms  2 ms  1 ms\n",
      "            10  204.70.3.164  254 ms (ttl=248!)  263 ms (ttl=248!)  263 ms (ttl=248!)\n",
      "            8  204.70.170.17  274 ms  307 ms *\n",
      "            10  140.222.56.4  289 ms *  222 ms\n",
      "        \"\"\"\n",
      "        parts = hop.strip().split()\n",
      "        ttl = int(parts[0])\n",
      "        ipaddr = None\n",
      "        last_probe = None\n",
      "        probes = []\n",
      "        idx = 1\n",
      "        while idx < len(parts):\n",
      "            if parts[idx] == '*':\n",
      "                probe = Probe(ttl, response=False)\n",
      "                probes.append(probe)\n",
      "            elif valid_float(parts[idx]):\n",
      "                probe = Probe(ttl, time=float(parts[idx]), ipaddr=ipaddr)\n",
      "                probes.append(probe)\n",
      "                last_probe = probe\n",
      "                idx += 1\n",
      "            elif valid_ipaddr(parts[idx]):\n",
      "                ipaddr = parts[idx]\n",
      "            else:\n",
      "                note = ProbeNotes.get(parts[idx], None)\n",
      "                if note is None:\n",
      "                    if ProbeNote.ICMP_UNREACHABLE.match(parts[idx]):\n",
      "                        note = parts[idx]\n",
      "                    elif ProbeNote.TTL_CHANGED.match(parts[idx]):\n",
      "                        note = parts[idx]\n",
      "                    else:\n",
      "                        raise RuntimeError(\"Unknown probe annotation: \" + parts[idx])\n",
      "                last_probe.note = note\n",
      "            idx += 1\n",
      "        return ipaddr, probes\n",
      "    \n",
      "class Probe(object):\n",
      "    \n",
      "    def __init__(self, ttl, time=None, response=True, ipaddr=None):\n",
      "        self.ttl = ttl\n",
      "        self.time = time\n",
      "        self.response = response\n",
      "        self.ipaddr = ipaddr\n",
      "        self.note = None\n"
     ],
     "language": "python",
     "metadata": {},
     "outputs": [],
     "prompt_number": 88
    },
    {
     "cell_type": "markdown",
     "metadata": {},
     "source": [
      "Parse the traceroute files and extract traceroute objects for analysis."
     ]
    },
    {
     "cell_type": "code",
     "collapsed": true,
     "input": [
      "def is_traceroute_start(line):\n",
      "    normal = line.strip()[:10] == \"traceroute\"\n",
      "    noexec = line.find(\"traceroute\") > -1 and line.find(\"couldn't exec\")\n",
      "    nohost = line.find(\"traceroute\") > -1 and line.find(\"unknown host\")\n",
      "    nofind = line.find(\"not found\") > -1\n",
      "    return normal or noexec or nohost or nofind\n",
      "    \n",
      "def read_traces(tracefilename, run=None, dirname=None, filename=None):\n",
      "    traceroutes = []\n",
      "    with open(tracefilename) as tracefile:\n",
      "        traceroute = None\n",
      "        for line in tracefile.readlines():\n",
      "            line = line.strip()\n",
      "            if line == \"\":\n",
      "                continue\n",
      "            if is_traceroute_start(line):\n",
      "                traceroute = Traceroute(line, run=run, dirname=dirname, filename=filename)\n",
      "                traceroute.raw = \"\\n\".join([traceroute.raw, line])\n",
      "                traceroutes.append(traceroute)\n",
      "            else:\n",
      "                hop = Hop(line)\n",
      "                traceroute.hops.append(hop)\n",
      "                traceroute.raw = \"\\n\".join([traceroute.raw, line])\n",
      "    return traceroutes\n",
      "\n",
      "run_dirs = os.listdir(DATA_DIR)\n",
      "runs = {}\n",
      "for run in run_dirs:\n",
      "    sys.stdout.write(\"\\n\\nReading %s\" % run)\n",
      "    dirnames = os.listdir(os.path.join(DATA_DIR, run))\n",
      "    runs[run] = {}\n",
      "    for dirname in dirnames:\n",
      "        sys.stdout.write(\"\\n%s\" % dirname)\n",
      "        filenames = os.listdir(os.path.join(DATA_DIR, run, dirname))\n",
      "        runs[run][dirname] = {}\n",
      "        for filename in filenames:\n",
      "            sys.stdout.write(\".\")\n",
      "            trace  = os.path.join(DATA_DIR, run, dirname, filename)\n",
      "            runs[run][dirname][filename] = read_traces(trace, run=run, dirname=dirname, filename=filename)\n",
      "            \n",
      "traceroutes = []\n",
      "for run in runs.keys():\n",
      "    for src_net in runs[run].keys():\n",
      "        for dst_net in runs[run][src_net].keys():\n",
      "            traceroutes.extend(runs[run][src_net][dst_net])"
     ],
     "language": "python",
     "metadata": {},
     "outputs": [
      {
       "output_type": "stream",
       "stream": "stdout",
       "text": [
        "\n",
        "\n",
        "Reading routes.run1\n",
        "adv."
       ]
      },
      {
       "output_type": "stream",
       "stream": "stdout",
       "text": [
        "......................."
       ]
      },
      {
       "output_type": "stream",
       "stream": "stdout",
       "text": [
        "................................"
       ]
      },
      {
       "output_type": "stream",
       "stream": "stdout",
       "text": [
        "................................"
       ]
      },
      {
       "output_type": "stream",
       "stream": "stdout",
       "text": [
        "........................................."
       ]
      },
      {
       "output_type": "stream",
       "stream": "stdout",
       "text": [
        "........................................"
       ]
      },
      {
       "output_type": "stream",
       "stream": "stdout",
       "text": [
        "............................................"
       ]
      },
      {
       "output_type": "stream",
       "stream": "stdout",
       "text": [
        "....................................."
       ]
      },
      {
       "output_type": "stream",
       "stream": "stdout",
       "text": [
        ".......\n",
        "austr......................."
       ]
      },
      {
       "output_type": "stream",
       "stream": "stdout",
       "text": [
        "..............................."
       ]
      },
      {
       "output_type": "stream",
       "stream": "stdout",
       "text": [
        "....................................."
       ]
      },
      {
       "output_type": "stream",
       "stream": "stdout",
       "text": [
        "........................................."
       ]
      },
      {
       "output_type": "stream",
       "stream": "stdout",
       "text": [
        "..........................\n",
        "austr2."
       ]
      },
      {
       "output_type": "stream",
       "stream": "stdout",
       "text": [
        "....................."
       ]
      },
      {
       "output_type": "stream",
       "stream": "stdout",
       "text": [
        ".............."
       ]
      },
      {
       "output_type": "stream",
       "stream": "stdout",
       "text": [
        "..............................."
       ]
      },
      {
       "output_type": "stream",
       "stream": "stdout",
       "text": [
        "..............................."
       ]
      },
      {
       "output_type": "stream",
       "stream": "stdout",
       "text": [
        "........................."
       ]
      },
      {
       "output_type": "stream",
       "stream": "stdout",
       "text": [
        "................................."
       ]
      },
      {
       "output_type": "stream",
       "stream": "stdout",
       "text": [
        "......................................."
       ]
      },
      {
       "output_type": "stream",
       "stream": "stdout",
       "text": [
        "....................................."
       ]
      },
      {
       "output_type": "stream",
       "stream": "stdout",
       "text": [
        "................................."
       ]
      },
      {
       "output_type": "stream",
       "stream": "stdout",
       "text": [
        "........................."
       ]
      },
      {
       "output_type": "stream",
       "stream": "stdout",
       "text": [
        ".....\n",
        "batman\n",
        "bnl............................."
       ]
      },
      {
       "output_type": "stream",
       "stream": "stdout",
       "text": [
        "....\n",
        "bsdi..............................."
       ]
      },
      {
       "output_type": "stream",
       "stream": "stdout",
       "text": [
        "........................................."
       ]
      },
      {
       "output_type": "stream",
       "stream": "stdout",
       "text": [
        "............................."
       ]
      },
      {
       "output_type": "stream",
       "stream": "stdout",
       "text": [
        "..........................\n",
        "connix."
       ]
      },
      {
       "output_type": "stream",
       "stream": "stdout",
       "text": [
        ".........................................."
       ]
      },
      {
       "output_type": "stream",
       "stream": "stdout",
       "text": [
        "......................................"
       ]
      },
      {
       "output_type": "stream",
       "stream": "stdout",
       "text": [
        ".............................................."
       ]
      },
      {
       "output_type": "stream",
       "stream": "stdout",
       "text": [
        "......................................"
       ]
      },
      {
       "output_type": "stream",
       "stream": "stdout",
       "text": [
        "........................................."
       ]
      },
      {
       "output_type": "stream",
       "stream": "stdout",
       "text": [
        "............................................"
       ]
      },
      {
       "output_type": "stream",
       "stream": "stdout",
       "text": [
        "..............................."
       ]
      },
      {
       "output_type": "stream",
       "stream": "stdout",
       "text": [
        "...............................\n",
        "harv\n",
        "inria."
       ]
      },
      {
       "output_type": "stream",
       "stream": "stdout",
       "text": [
        "......................"
       ]
      },
      {
       "output_type": "stream",
       "stream": "stdout",
       "text": [
        ".................................."
       ]
      },
      {
       "output_type": "stream",
       "stream": "stdout",
       "text": [
        "...................."
       ]
      },
      {
       "output_type": "stream",
       "stream": "stdout",
       "text": [
        "......................................"
       ]
      },
      {
       "output_type": "stream",
       "stream": "stdout",
       "text": [
        "................................."
       ]
      },
      {
       "output_type": "stream",
       "stream": "stdout",
       "text": [
        "................................"
       ]
      },
      {
       "output_type": "stream",
       "stream": "stdout",
       "text": [
        "....................................."
       ]
      },
      {
       "output_type": "stream",
       "stream": "stdout",
       "text": [
        "...................................."
       ]
      },
      {
       "output_type": "stream",
       "stream": "stdout",
       "text": [
        "........................."
       ]
      },
      {
       "output_type": "stream",
       "stream": "stdout",
       "text": [
        ".................\n",
        "korea\n",
        "lbl."
       ]
      },
      {
       "output_type": "stream",
       "stream": "stdout",
       "text": [
        "...................................."
       ]
      },
      {
       "output_type": "stream",
       "stream": "stdout",
       "text": [
        "......................................."
       ]
      },
      {
       "output_type": "stream",
       "stream": "stdout",
       "text": [
        "........................................."
       ]
      },
      {
       "output_type": "stream",
       "stream": "stdout",
       "text": [
        "............................................"
       ]
      },
      {
       "output_type": "stream",
       "stream": "stdout",
       "text": [
        "................................."
       ]
      },
      {
       "output_type": "stream",
       "stream": "stdout",
       "text": [
        "........................................"
       ]
      },
      {
       "output_type": "stream",
       "stream": "stdout",
       "text": [
        "......................................."
       ]
      },
      {
       "output_type": "stream",
       "stream": "stdout",
       "text": [
        "...............................\n",
        "lbli\n",
        "mid.."
       ]
      },
      {
       "output_type": "stream",
       "stream": "stdout",
       "text": [
        "..........................."
       ]
      },
      {
       "output_type": "stream",
       "stream": "stdout",
       "text": [
        "........................................"
       ]
      },
      {
       "output_type": "stream",
       "stream": "stdout",
       "text": [
        "................................"
       ]
      },
      {
       "output_type": "stream",
       "stream": "stdout",
       "text": [
        "...."
       ]
      },
      {
       "output_type": "stream",
       "stream": "stdout",
       "text": [
        "...."
       ]
      },
      {
       "output_type": "stream",
       "stream": "stdout",
       "text": [
        "....................."
       ]
      },
      {
       "output_type": "stream",
       "stream": "stdout",
       "text": [
        ".."
       ]
      },
      {
       "output_type": "stream",
       "stream": "stdout",
       "text": [
        "...................................."
       ]
      },
      {
       "output_type": "stream",
       "stream": "stdout",
       "text": [
        "..................................."
       ]
      },
      {
       "output_type": "stream",
       "stream": "stdout",
       "text": [
        "............................................"
       ]
      },
      {
       "output_type": "stream",
       "stream": "stdout",
       "text": [
        "......................................."
       ]
      },
      {
       "output_type": "stream",
       "stream": "stdout",
       "text": [
        "............\n",
        "mit.."
       ]
      },
      {
       "output_type": "stream",
       "stream": "stdout",
       "text": [
        "............................."
       ]
      },
      {
       "output_type": "stream",
       "stream": "stdout",
       "text": [
        ".............................."
       ]
      },
      {
       "output_type": "stream",
       "stream": "stdout",
       "text": [
        ".............................."
       ]
      },
      {
       "output_type": "stream",
       "stream": "stdout",
       "text": [
        "........................."
       ]
      },
      {
       "output_type": "stream",
       "stream": "stdout",
       "text": [
        "......................................"
       ]
      },
      {
       "output_type": "stream",
       "stream": "stdout",
       "text": [
        "..................................."
       ]
      },
      {
       "output_type": "stream",
       "stream": "stdout",
       "text": [
        "................................."
       ]
      },
      {
       "output_type": "stream",
       "stream": "stdout",
       "text": [
        "................................."
       ]
      },
      {
       "output_type": "stream",
       "stream": "stdout",
       "text": [
        "........................."
       ]
      },
      {
       "output_type": "stream",
       "stream": "stdout",
       "text": [
        "...........\n",
        "ncar.............."
       ]
      },
      {
       "output_type": "stream",
       "stream": "stdout",
       "text": [
        ".............................."
       ]
      },
      {
       "output_type": "stream",
       "stream": "stdout",
       "text": [
        "................................................"
       ]
      },
      {
       "output_type": "stream",
       "stream": "stdout",
       "text": [
        "...\n",
        "ncar2\n",
        "near."
       ]
      },
      {
       "output_type": "stream",
       "stream": "stdout",
       "text": [
        "...................................."
       ]
      },
      {
       "output_type": "stream",
       "stream": "stdout",
       "text": [
        "..................................."
       ]
      },
      {
       "output_type": "stream",
       "stream": "stdout",
       "text": [
        "......................................."
       ]
      },
      {
       "output_type": "stream",
       "stream": "stdout",
       "text": [
        "................................................"
       ]
      },
      {
       "output_type": "stream",
       "stream": "stdout",
       "text": [
        "......................................"
       ]
      },
      {
       "output_type": "stream",
       "stream": "stdout",
       "text": [
        "........................................."
       ]
      },
      {
       "output_type": "stream",
       "stream": "stdout",
       "text": [
        ".........................................."
       ]
      },
      {
       "output_type": "stream",
       "stream": "stdout",
       "text": [
        "...............\n",
        "nrao..................."
       ]
      },
      {
       "output_type": "stream",
       "stream": "stdout",
       "text": [
        "...................\n",
        "oce..."
       ]
      },
      {
       "output_type": "stream",
       "stream": "stdout",
       "text": [
        "..........................."
       ]
      },
      {
       "output_type": "stream",
       "stream": "stdout",
       "text": [
        "......................"
       ]
      },
      {
       "output_type": "stream",
       "stream": "stdout",
       "text": [
        "............................."
       ]
      },
      {
       "output_type": "stream",
       "stream": "stdout",
       "text": [
        "...................\n",
        "panix."
       ]
      },
      {
       "output_type": "stream",
       "stream": "stdout",
       "text": [
        "..................................."
       ]
      },
      {
       "output_type": "stream",
       "stream": "stdout",
       "text": [
        "............................."
       ]
      },
      {
       "output_type": "stream",
       "stream": "stdout",
       "text": [
        ".................................."
       ]
      },
      {
       "output_type": "stream",
       "stream": "stdout",
       "text": [
        ".....................\n",
        "pubnix."
       ]
      },
      {
       "output_type": "stream",
       "stream": "stdout",
       "text": [
        "........................................."
       ]
      },
      {
       "output_type": "stream",
       "stream": "stdout",
       "text": [
        "......................................"
       ]
      },
      {
       "output_type": "stream",
       "stream": "stdout",
       "text": [
        "........................................"
       ]
      },
      {
       "output_type": "stream",
       "stream": "stdout",
       "text": [
        "..............................................."
       ]
      },
      {
       "output_type": "stream",
       "stream": "stdout",
       "text": [
        "....................................."
       ]
      },
      {
       "output_type": "stream",
       "stream": "stdout",
       "text": [
        ".........................................."
       ]
      },
      {
       "output_type": "stream",
       "stream": "stdout",
       "text": [
        "............................................"
       ]
      },
      {
       "output_type": "stream",
       "stream": "stdout",
       "text": [
        ".................................\n",
        "rain..."
       ]
      },
      {
       "output_type": "stream",
       "stream": "stdout",
       "text": [
        ".........................................."
       ]
      },
      {
       "output_type": "stream",
       "stream": "stdout",
       "text": [
        "...................................."
       ]
      },
      {
       "output_type": "stream",
       "stream": "stdout",
       "text": [
        "...................................."
       ]
      },
      {
       "output_type": "stream",
       "stream": "stdout",
       "text": [
        ".................................."
       ]
      },
      {
       "output_type": "stream",
       "stream": "stdout",
       "text": [
        "............................................"
       ]
      },
      {
       "output_type": "stream",
       "stream": "stdout",
       "text": [
        ".........................................."
       ]
      },
      {
       "output_type": "stream",
       "stream": "stdout",
       "text": [
        "........................................"
       ]
      },
      {
       "output_type": "stream",
       "stream": "stdout",
       "text": [
        ".....\n",
        "sdsc......"
       ]
      },
      {
       "output_type": "stream",
       "stream": "stdout",
       "text": [
        "......................."
       ]
      },
      {
       "output_type": "stream",
       "stream": "stdout",
       "text": [
        "..............................."
       ]
      },
      {
       "output_type": "stream",
       "stream": "stdout",
       "text": [
        "................................."
       ]
      },
      {
       "output_type": "stream",
       "stream": "stdout",
       "text": [
        "................................."
       ]
      },
      {
       "output_type": "stream",
       "stream": "stdout",
       "text": [
        "............\n",
        "sintef1.."
       ]
      },
      {
       "output_type": "stream",
       "stream": "stdout",
       "text": [
        "..................................."
       ]
      },
      {
       "output_type": "stream",
       "stream": "stdout",
       "text": [
        "................................."
       ]
      },
      {
       "output_type": "stream",
       "stream": "stdout",
       "text": [
        ".................................."
       ]
      },
      {
       "output_type": "stream",
       "stream": "stdout",
       "text": [
        "........................................"
       ]
      },
      {
       "output_type": "stream",
       "stream": "stdout",
       "text": [
        "..............................."
       ]
      },
      {
       "output_type": "stream",
       "stream": "stdout",
       "text": [
        "..............................."
       ]
      },
      {
       "output_type": "stream",
       "stream": "stdout",
       "text": [
        "........................................."
       ]
      },
      {
       "output_type": "stream",
       "stream": "stdout",
       "text": [
        "..................................\n",
        "sintef2..."
       ]
      },
      {
       "output_type": "stream",
       "stream": "stdout",
       "text": [
        "........................................."
       ]
      },
      {
       "output_type": "stream",
       "stream": "stdout",
       "text": [
        ".............................................."
       ]
      },
      {
       "output_type": "stream",
       "stream": "stdout",
       "text": [
        "..........................................."
       ]
      },
      {
       "output_type": "stream",
       "stream": "stdout",
       "text": [
        "........................................."
       ]
      },
      {
       "output_type": "stream",
       "stream": "stdout",
       "text": [
        "......................................"
       ]
      },
      {
       "output_type": "stream",
       "stream": "stdout",
       "text": [
        ".................................."
       ]
      },
      {
       "output_type": "stream",
       "stream": "stdout",
       "text": [
        "..............................."
       ]
      },
      {
       "output_type": "stream",
       "stream": "stdout",
       "text": [
        ".........\n",
        "sri\n",
        "ucl.."
       ]
      },
      {
       "output_type": "stream",
       "stream": "stdout",
       "text": [
        "......."
       ]
      },
      {
       "output_type": "stream",
       "stream": "stdout",
       "text": [
        "...."
       ]
      },
      {
       "output_type": "stream",
       "stream": "stdout",
       "text": [
        "...."
       ]
      },
      {
       "output_type": "stream",
       "stream": "stdout",
       "text": [
        ".............................."
       ]
      },
      {
       "output_type": "stream",
       "stream": "stdout",
       "text": [
        "............................"
       ]
      },
      {
       "output_type": "stream",
       "stream": "stdout",
       "text": [
        ".........................."
       ]
      },
      {
       "output_type": "stream",
       "stream": "stdout",
       "text": [
        "................................"
       ]
      },
      {
       "output_type": "stream",
       "stream": "stdout",
       "text": [
        "...................................."
       ]
      },
      {
       "output_type": "stream",
       "stream": "stdout",
       "text": [
        "...................................."
       ]
      },
      {
       "output_type": "stream",
       "stream": "stdout",
       "text": [
        "..................................."
       ]
      },
      {
       "output_type": "stream",
       "stream": "stdout",
       "text": [
        "........................\n",
        "ucla."
       ]
      },
      {
       "output_type": "stream",
       "stream": "stdout",
       "text": [
        "................................."
       ]
      },
      {
       "output_type": "stream",
       "stream": "stdout",
       "text": [
        "........................................."
       ]
      },
      {
       "output_type": "stream",
       "stream": "stdout",
       "text": [
        "............................."
       ]
      },
      {
       "output_type": "stream",
       "stream": "stdout",
       "text": [
        "..............................."
       ]
      },
      {
       "output_type": "stream",
       "stream": "stdout",
       "text": [
        "................................."
       ]
      },
      {
       "output_type": "stream",
       "stream": "stdout",
       "text": [
        "..............................."
       ]
      },
      {
       "output_type": "stream",
       "stream": "stdout",
       "text": [
        "............................"
       ]
      },
      {
       "output_type": "stream",
       "stream": "stdout",
       "text": [
        "..................................."
       ]
      },
      {
       "output_type": "stream",
       "stream": "stdout",
       "text": [
        "..............................\n",
        "ucol\n",
        "ukc\n",
        "umann.."
       ]
      },
      {
       "output_type": "stream",
       "stream": "stdout",
       "text": [
        "........................................"
       ]
      },
      {
       "output_type": "stream",
       "stream": "stdout",
       "text": [
        "..............................."
       ]
      },
      {
       "output_type": "stream",
       "stream": "stdout",
       "text": [
        "........................................"
       ]
      },
      {
       "output_type": "stream",
       "stream": "stdout",
       "text": [
        ".............................\n",
        "umont....."
       ]
      },
      {
       "output_type": "stream",
       "stream": "stdout",
       "text": [
        "........................................"
       ]
      },
      {
       "output_type": "stream",
       "stream": "stdout",
       "text": [
        "................................."
       ]
      },
      {
       "output_type": "stream",
       "stream": "stdout",
       "text": [
        "..........................."
       ]
      },
      {
       "output_type": "stream",
       "stream": "stdout",
       "text": [
        "....................\n",
        "unij\n",
        "upader\n",
        "usc\n",
        "ustutt.."
       ]
      },
      {
       "output_type": "stream",
       "stream": "stdout",
       "text": [
        "......................................."
       ]
      },
      {
       "output_type": "stream",
       "stream": "stdout",
       "text": [
        "............................"
       ]
      },
      {
       "output_type": "stream",
       "stream": "stdout",
       "text": [
        "..........................."
       ]
      },
      {
       "output_type": "stream",
       "stream": "stdout",
       "text": [
        ".................."
       ]
      },
      {
       "output_type": "stream",
       "stream": "stdout",
       "text": [
        "...........................\n",
        "wustl."
       ]
      },
      {
       "output_type": "stream",
       "stream": "stdout",
       "text": [
        ".............................."
       ]
      },
      {
       "output_type": "stream",
       "stream": "stdout",
       "text": [
        "..............................."
       ]
      },
      {
       "output_type": "stream",
       "stream": "stdout",
       "text": [
        ".................................."
       ]
      },
      {
       "output_type": "stream",
       "stream": "stdout",
       "text": [
        ".............................."
       ]
      },
      {
       "output_type": "stream",
       "stream": "stdout",
       "text": [
        "................................"
       ]
      },
      {
       "output_type": "stream",
       "stream": "stdout",
       "text": [
        ".....\n",
        "xor\n",
        "\n",
        "Reading routes.run2\n",
        "adv............"
       ]
      },
      {
       "output_type": "stream",
       "stream": "stdout",
       "text": [
        "..........................."
       ]
      },
      {
       "output_type": "stream",
       "stream": "stdout",
       "text": [
        "....................."
       ]
      },
      {
       "output_type": "stream",
       "stream": "stdout",
       "text": [
        "..............................."
       ]
      },
      {
       "output_type": "stream",
       "stream": "stdout",
       "text": [
        "............................\n",
        "austr.."
       ]
      },
      {
       "output_type": "stream",
       "stream": "stdout",
       "text": [
        "........................................."
       ]
      },
      {
       "output_type": "stream",
       "stream": "stdout",
       "text": [
        "..........................................."
       ]
      },
      {
       "output_type": "stream",
       "stream": "stdout",
       "text": [
        "........................"
       ]
      },
      {
       "output_type": "stream",
       "stream": "stdout",
       "text": [
        "........................\n",
        "austr2.."
       ]
      },
      {
       "output_type": "stream",
       "stream": "stdout",
       "text": [
        "......................................."
       ]
      },
      {
       "output_type": "stream",
       "stream": "stdout",
       "text": [
        "......................................"
       ]
      },
      {
       "output_type": "stream",
       "stream": "stdout",
       "text": [
        "........................."
       ]
      },
      {
       "output_type": "stream",
       "stream": "stdout",
       "text": [
        "....................\n",
        "bnl."
       ]
      },
      {
       "output_type": "stream",
       "stream": "stdout",
       "text": [
        ".........................................."
       ]
      },
      {
       "output_type": "stream",
       "stream": "stdout",
       "text": [
        "..............................................."
       ]
      },
      {
       "output_type": "stream",
       "stream": "stdout",
       "text": [
        ".............................................."
       ]
      },
      {
       "output_type": "stream",
       "stream": "stdout",
       "text": [
        "..........\n",
        "bsdi............................"
       ]
      },
      {
       "output_type": "stream",
       "stream": "stdout",
       "text": [
        ".............................\n",
        "connix......."
       ]
      },
      {
       "output_type": "stream",
       "stream": "stdout",
       "text": [
        "............................................"
       ]
      },
      {
       "output_type": "stream",
       "stream": "stdout",
       "text": [
        "............................................."
       ]
      },
      {
       "output_type": "stream",
       "stream": "stdout",
       "text": [
        "..................\n",
        "harv.............."
       ]
      },
      {
       "output_type": "stream",
       "stream": "stdout",
       "text": [
        "......................................"
       ]
      },
      {
       "output_type": "stream",
       "stream": "stdout",
       "text": [
        ".................................."
       ]
      },
      {
       "output_type": "stream",
       "stream": "stdout",
       "text": [
        "................................."
       ]
      },
      {
       "output_type": "stream",
       "stream": "stdout",
       "text": [
        ".....................\n",
        "inria."
       ]
      },
      {
       "output_type": "stream",
       "stream": "stdout",
       "text": [
        ".................................."
       ]
      },
      {
       "output_type": "stream",
       "stream": "stdout",
       "text": [
        "...................................."
       ]
      },
      {
       "output_type": "stream",
       "stream": "stdout",
       "text": [
        ".........................."
       ]
      },
      {
       "output_type": "stream",
       "stream": "stdout",
       "text": [
        "....."
       ]
      },
      {
       "output_type": "stream",
       "stream": "stdout",
       "text": [
        "...."
       ]
      },
      {
       "output_type": "stream",
       "stream": "stdout",
       "text": [
        "...........\n",
        "lbl.."
       ]
      },
      {
       "output_type": "stream",
       "stream": "stdout",
       "text": [
        "......................................."
       ]
      },
      {
       "output_type": "stream",
       "stream": "stdout",
       "text": [
        "..................................................."
       ]
      },
      {
       "output_type": "stream",
       "stream": "stdout",
       "text": [
        "............\n",
        "lbli..............."
       ]
      },
      {
       "output_type": "stream",
       "stream": "stdout",
       "text": [
        "............................................."
       ]
      },
      {
       "output_type": "stream",
       "stream": "stdout",
       "text": [
        "......................................"
       ]
      },
      {
       "output_type": "stream",
       "stream": "stdout",
       "text": [
        "\n",
        "mid.........................."
       ]
      },
      {
       "output_type": "stream",
       "stream": "stdout",
       "text": [
        "........................................"
       ]
      },
      {
       "output_type": "stream",
       "stream": "stdout",
       "text": [
        "............................................"
       ]
      },
      {
       "output_type": "stream",
       "stream": "stdout",
       "text": [
        "............\n",
        "mit.."
       ]
      },
      {
       "output_type": "stream",
       "stream": "stdout",
       "text": [
        "........................................"
       ]
      },
      {
       "output_type": "stream",
       "stream": "stdout",
       "text": [
        ".............................................."
       ]
      },
      {
       "output_type": "stream",
       "stream": "stdout",
       "text": [
        ".......................................\n",
        "ncar.."
       ]
      },
      {
       "output_type": "stream",
       "stream": "stdout",
       "text": [
        ".............................................."
       ]
      },
      {
       "output_type": "stream",
       "stream": "stdout",
       "text": [
        ".................................."
       ]
      },
      {
       "output_type": "stream",
       "stream": "stdout",
       "text": [
        "................................"
       ]
      },
      {
       "output_type": "stream",
       "stream": "stdout",
       "text": [
        ".....................\n",
        "near........"
       ]
      },
      {
       "output_type": "stream",
       "stream": "stdout",
       "text": [
        ".............................."
       ]
      },
      {
       "output_type": "stream",
       "stream": "stdout",
       "text": [
        "......\n",
        "nrao................."
       ]
      },
      {
       "output_type": "stream",
       "stream": "stdout",
       "text": [
        "..........................."
       ]
      },
      {
       "output_type": "stream",
       "stream": "stdout",
       "text": [
        "..............................."
       ]
      },
      {
       "output_type": "stream",
       "stream": "stdout",
       "text": [
        ".............................."
       ]
      },
      {
       "output_type": "stream",
       "stream": "stdout",
       "text": [
        "............\n",
        "oce..........."
       ]
      },
      {
       "output_type": "stream",
       "stream": "stdout",
       "text": [
        "..........................."
       ]
      },
      {
       "output_type": "stream",
       "stream": "stdout",
       "text": [
        "......................"
       ]
      },
      {
       "output_type": "stream",
       "stream": "stdout",
       "text": [
        "............................."
       ]
      },
      {
       "output_type": "stream",
       "stream": "stdout",
       "text": [
        "....................\n",
        "panix."
       ]
      },
      {
       "output_type": "stream",
       "stream": "stdout",
       "text": [
        "............................................"
       ]
      },
      {
       "output_type": "stream",
       "stream": "stdout",
       "text": [
        "..............................\n",
        "pubnix\n",
        "rain........."
       ]
      },
      {
       "output_type": "stream",
       "stream": "stdout",
       "text": [
        "................................................."
       ]
      },
      {
       "output_type": "stream",
       "stream": "stdout",
       "text": [
        ".................................................."
       ]
      },
      {
       "output_type": "stream",
       "stream": "stdout",
       "text": [
        "............\n",
        "sandia....................."
       ]
      },
      {
       "output_type": "stream",
       "stream": "stdout",
       "text": [
        ".........................................."
       ]
      },
      {
       "output_type": "stream",
       "stream": "stdout",
       "text": [
        ".................................."
       ]
      },
      {
       "output_type": "stream",
       "stream": "stdout",
       "text": [
        "............................."
       ]
      },
      {
       "output_type": "stream",
       "stream": "stdout",
       "text": [
        "..........\n",
        "sdsc................"
       ]
      },
      {
       "output_type": "stream",
       "stream": "stdout",
       "text": [
        "..............................."
       ]
      },
      {
       "output_type": "stream",
       "stream": "stdout",
       "text": [
        "...................................."
       ]
      },
      {
       "output_type": "stream",
       "stream": "stdout",
       "text": [
        "..................\n",
        "sintef1............"
       ]
      },
      {
       "output_type": "stream",
       "stream": "stdout",
       "text": [
        "..................................."
       ]
      },
      {
       "output_type": "stream",
       "stream": "stdout",
       "text": [
        "...................................."
       ]
      },
      {
       "output_type": "stream",
       "stream": "stdout",
       "text": [
        "..\n",
        "sintef2..............................."
       ]
      },
      {
       "output_type": "stream",
       "stream": "stdout",
       "text": [
        "............................................."
       ]
      },
      {
       "output_type": "stream",
       "stream": "stdout",
       "text": [
        "..................................\n",
        "sri.."
       ]
      },
      {
       "output_type": "stream",
       "stream": "stdout",
       "text": [
        "........................................."
       ]
      },
      {
       "output_type": "stream",
       "stream": "stdout",
       "text": [
        "................................."
       ]
      },
      {
       "output_type": "stream",
       "stream": "stdout",
       "text": [
        "..............................."
       ]
      },
      {
       "output_type": "stream",
       "stream": "stdout",
       "text": [
        "............................."
       ]
      },
      {
       "output_type": "stream",
       "stream": "stdout",
       "text": [
        "...........................\n",
        "ucl."
       ]
      },
      {
       "output_type": "stream",
       "stream": "stdout",
       "text": [
        ".........................."
       ]
      },
      {
       "output_type": "stream",
       "stream": "stdout",
       "text": [
        "............................"
       ]
      },
      {
       "output_type": "stream",
       "stream": "stdout",
       "text": [
        "..........................."
       ]
      },
      {
       "output_type": "stream",
       "stream": "stdout",
       "text": [
        "..................................."
       ]
      },
      {
       "output_type": "stream",
       "stream": "stdout",
       "text": [
        "\n",
        "ucla.."
       ]
      },
      {
       "output_type": "stream",
       "stream": "stdout",
       "text": [
        "........................................"
       ]
      },
      {
       "output_type": "stream",
       "stream": "stdout",
       "text": [
        "......................................."
       ]
      },
      {
       "output_type": "stream",
       "stream": "stdout",
       "text": [
        "..............................."
       ]
      },
      {
       "output_type": "stream",
       "stream": "stdout",
       "text": [
        ".....................\n",
        "ucol...."
       ]
      },
      {
       "output_type": "stream",
       "stream": "stdout",
       "text": [
        "................................."
       ]
      },
      {
       "output_type": "stream",
       "stream": "stdout",
       "text": [
        ".............................."
       ]
      },
      {
       "output_type": "stream",
       "stream": "stdout",
       "text": [
        "............\n",
        "umann.."
       ]
      },
      {
       "output_type": "stream",
       "stream": "stdout",
       "text": [
        ".................................."
       ]
      },
      {
       "output_type": "stream",
       "stream": "stdout",
       "text": [
        "......................................."
       ]
      },
      {
       "output_type": "stream",
       "stream": "stdout",
       "text": [
        ".......................................\n",
        "umont."
       ]
      },
      {
       "output_type": "stream",
       "stream": "stdout",
       "text": [
        ".................................."
       ]
      },
      {
       "output_type": "stream",
       "stream": "stdout",
       "text": [
        "......."
       ]
      },
      {
       "output_type": "stream",
       "stream": "stdout",
       "text": [
        "...."
       ]
      },
      {
       "output_type": "stream",
       "stream": "stdout",
       "text": [
        "........................."
       ]
      },
      {
       "output_type": "stream",
       "stream": "stdout",
       "text": [
        "............................."
       ]
      },
      {
       "output_type": "stream",
       "stream": "stdout",
       "text": [
        "................\n",
        "unij.."
       ]
      },
      {
       "output_type": "stream",
       "stream": "stdout",
       "text": [
        ".............................."
       ]
      },
      {
       "output_type": "stream",
       "stream": "stdout",
       "text": [
        ".............................."
       ]
      },
      {
       "output_type": "stream",
       "stream": "stdout",
       "text": [
        "................................."
       ]
      },
      {
       "output_type": "stream",
       "stream": "stdout",
       "text": [
        "..............\n",
        "ustutt............."
       ]
      },
      {
       "output_type": "stream",
       "stream": "stdout",
       "text": [
        "..................................."
       ]
      },
      {
       "output_type": "stream",
       "stream": "stdout",
       "text": [
        "................................."
       ]
      },
      {
       "output_type": "stream",
       "stream": "stdout",
       "text": [
        ".............................."
       ]
      },
      {
       "output_type": "stream",
       "stream": "stdout",
       "text": [
        "........\n",
        "wustl........................"
       ]
      },
      {
       "output_type": "stream",
       "stream": "stdout",
       "text": [
        "......................................"
       ]
      },
      {
       "output_type": "stream",
       "stream": "stdout",
       "text": [
        "....................................."
       ]
      },
      {
       "output_type": "stream",
       "stream": "stdout",
       "text": [
        ".......................\n",
        "\n",
        "Reading routes.run3\n",
        "adv"
       ]
      },
      {
       "output_type": "stream",
       "stream": "stdout",
       "text": [
        "......................"
       ]
      },
      {
       "output_type": "stream",
       "stream": "stdout",
       "text": [
        "....................................."
       ]
      },
      {
       "output_type": "stream",
       "stream": "stdout",
       "text": [
        "...................................."
       ]
      },
      {
       "output_type": "stream",
       "stream": "stdout",
       "text": [
        "...........................\n",
        "austr...."
       ]
      },
      {
       "output_type": "stream",
       "stream": "stdout",
       "text": [
        "................................."
       ]
      },
      {
       "output_type": "stream",
       "stream": "stdout",
       "text": [
        ".............................."
       ]
      },
      {
       "output_type": "stream",
       "stream": "stdout",
       "text": [
        "..............................."
       ]
      },
      {
       "output_type": "stream",
       "stream": "stdout",
       "text": [
        "...................\n",
        "austr2."
       ]
      },
      {
       "output_type": "stream",
       "stream": "stdout",
       "text": [
        "............................"
       ]
      },
      {
       "output_type": "stream",
       "stream": "stdout",
       "text": [
        "............................."
       ]
      },
      {
       "output_type": "stream",
       "stream": "stdout",
       "text": [
        "............................."
       ]
      },
      {
       "output_type": "stream",
       "stream": "stdout",
       "text": [
        "................................"
       ]
      },
      {
       "output_type": "stream",
       "stream": "stdout",
       "text": [
        "..........................."
       ]
      },
      {
       "output_type": "stream",
       "stream": "stdout",
       "text": [
        "..\n",
        "bnl..........................."
       ]
      },
      {
       "output_type": "stream",
       "stream": "stdout",
       "text": [
        "......................................."
       ]
      },
      {
       "output_type": "stream",
       "stream": "stdout",
       "text": [
        ".........................................."
       ]
      },
      {
       "output_type": "stream",
       "stream": "stdout",
       "text": [
        ".......\n",
        "bsdi...................."
       ]
      },
      {
       "output_type": "stream",
       "stream": "stdout",
       "text": [
        "......................................"
       ]
      },
      {
       "output_type": "stream",
       "stream": "stdout",
       "text": [
        "...................................."
       ]
      },
      {
       "output_type": "stream",
       "stream": "stdout",
       "text": [
        "..................................."
       ]
      },
      {
       "output_type": "stream",
       "stream": "stdout",
       "text": [
        "...\n",
        "connix........................."
       ]
      },
      {
       "output_type": "stream",
       "stream": "stdout",
       "text": [
        "......................................."
       ]
      },
      {
       "output_type": "stream",
       "stream": "stdout",
       "text": [
        "...................................."
       ]
      },
      {
       "output_type": "stream",
       "stream": "stdout",
       "text": [
        ".....................\n",
        "harv."
       ]
      },
      {
       "output_type": "stream",
       "stream": "stdout",
       "text": [
        "................................"
       ]
      },
      {
       "output_type": "stream",
       "stream": "stdout",
       "text": [
        "......................................."
       ]
      },
      {
       "output_type": "stream",
       "stream": "stdout",
       "text": [
        "..................................."
       ]
      },
      {
       "output_type": "stream",
       "stream": "stdout",
       "text": [
        "........\n",
        "inria.................."
       ]
      },
      {
       "output_type": "stream",
       "stream": "stdout",
       "text": [
        ".................................."
       ]
      },
      {
       "output_type": "stream",
       "stream": "stdout",
       "text": [
        "................................."
       ]
      },
      {
       "output_type": "stream",
       "stream": "stdout",
       "text": [
        ".......................\n",
        "lbl."
       ]
      },
      {
       "output_type": "stream",
       "stream": "stdout",
       "text": [
        "......................................."
       ]
      },
      {
       "output_type": "stream",
       "stream": "stdout",
       "text": [
        "........................................."
       ]
      },
      {
       "output_type": "stream",
       "stream": "stdout",
       "text": [
        "......................................."
       ]
      },
      {
       "output_type": "stream",
       "stream": "stdout",
       "text": [
        "...................................\n",
        "lbli.."
       ]
      },
      {
       "output_type": "stream",
       "stream": "stdout",
       "text": [
        "...................................."
       ]
      },
      {
       "output_type": "stream",
       "stream": "stdout",
       "text": [
        "......................................."
       ]
      },
      {
       "output_type": "stream",
       "stream": "stdout",
       "text": [
        ".............\n",
        "mid................"
       ]
      },
      {
       "output_type": "stream",
       "stream": "stdout",
       "text": [
        "..................................."
       ]
      },
      {
       "output_type": "stream",
       "stream": "stdout",
       "text": [
        "................................."
       ]
      },
      {
       "output_type": "stream",
       "stream": "stdout",
       "text": [
        "..................................\n",
        "mit.."
       ]
      },
      {
       "output_type": "stream",
       "stream": "stdout",
       "text": [
        "............................"
       ]
      },
      {
       "output_type": "stream",
       "stream": "stdout",
       "text": [
        "..............................................."
       ]
      },
      {
       "output_type": "stream",
       "stream": "stdout",
       "text": [
        "...................................."
       ]
      },
      {
       "output_type": "stream",
       "stream": "stdout",
       "text": [
        "........................\n",
        "ncar."
       ]
      },
      {
       "output_type": "stream",
       "stream": "stdout",
       "text": [
        "....................................."
       ]
      },
      {
       "output_type": "stream",
       "stream": "stdout",
       "text": [
        "................................"
       ]
      },
      {
       "output_type": "stream",
       "stream": "stdout",
       "text": [
        "........................................."
       ]
      },
      {
       "output_type": "stream",
       "stream": "stdout",
       "text": [
        "...............\n",
        "near................."
       ]
      },
      {
       "output_type": "stream",
       "stream": "stdout",
       "text": [
        "........................................"
       ]
      },
      {
       "output_type": "stream",
       "stream": "stdout",
       "text": [
        "........................................"
       ]
      },
      {
       "output_type": "stream",
       "stream": "stdout",
       "text": [
        "..........."
       ]
      },
      {
       "output_type": "stream",
       "stream": "stdout",
       "text": [
        "....."
       ]
      },
      {
       "output_type": "stream",
       "stream": "stdout",
       "text": [
        "..............."
       ]
      },
      {
       "output_type": "stream",
       "stream": "stdout",
       "text": [
        "...\n",
        "nrao............."
       ]
      },
      {
       "output_type": "stream",
       "stream": "stdout",
       "text": [
        "..................................."
       ]
      },
      {
       "output_type": "stream",
       "stream": "stdout",
       "text": [
        "...................................."
       ]
      },
      {
       "output_type": "stream",
       "stream": "stdout",
       "text": [
        "........................."
       ]
      },
      {
       "output_type": "stream",
       "stream": "stdout",
       "text": [
        "..................\n",
        "oce...........\n",
        "panix\n",
        "pubnix\n",
        "rain."
       ]
      },
      {
       "output_type": "stream",
       "stream": "stdout",
       "text": [
        "............................................"
       ]
      },
      {
       "output_type": "stream",
       "stream": "stdout",
       "text": [
        "..................................."
       ]
      },
      {
       "output_type": "stream",
       "stream": "stdout",
       "text": [
        ".....................................\n",
        "sandia."
       ]
      },
      {
       "output_type": "stream",
       "stream": "stdout",
       "text": [
        "..............................."
       ]
      },
      {
       "output_type": "stream",
       "stream": "stdout",
       "text": [
        ".................................."
       ]
      },
      {
       "output_type": "stream",
       "stream": "stdout",
       "text": [
        "........................................"
       ]
      },
      {
       "output_type": "stream",
       "stream": "stdout",
       "text": [
        "..........................\n",
        "sdsc......"
       ]
      },
      {
       "output_type": "stream",
       "stream": "stdout",
       "text": [
        "....................................."
       ]
      },
      {
       "output_type": "stream",
       "stream": "stdout",
       "text": [
        "...........\n",
        "sintef1................."
       ]
      },
      {
       "output_type": "stream",
       "stream": "stdout",
       "text": [
        "........................."
       ]
      },
      {
       "output_type": "stream",
       "stream": "stdout",
       "text": [
        "...................................."
       ]
      },
      {
       "output_type": "stream",
       "stream": "stdout",
       "text": [
        "...............................\n",
        "sintef2.."
       ]
      },
      {
       "output_type": "stream",
       "stream": "stdout",
       "text": [
        "......................................."
       ]
      },
      {
       "output_type": "stream",
       "stream": "stdout",
       "text": [
        "......................................."
       ]
      },
      {
       "output_type": "stream",
       "stream": "stdout",
       "text": [
        "................................\n",
        "sri."
       ]
      },
      {
       "output_type": "stream",
       "stream": "stdout",
       "text": [
        ".........................................."
       ]
      },
      {
       "output_type": "stream",
       "stream": "stdout",
       "text": [
        "..............................."
       ]
      },
      {
       "output_type": "stream",
       "stream": "stdout",
       "text": [
        "......................................"
       ]
      },
      {
       "output_type": "stream",
       "stream": "stdout",
       "text": [
        "......................................"
       ]
      },
      {
       "output_type": "stream",
       "stream": "stdout",
       "text": [
        "\n",
        "ucl............................"
       ]
      },
      {
       "output_type": "stream",
       "stream": "stdout",
       "text": [
        "..................................."
       ]
      },
      {
       "output_type": "stream",
       "stream": "stdout",
       "text": [
        ".......................\n",
        "ucla..."
       ]
      },
      {
       "output_type": "stream",
       "stream": "stdout",
       "text": [
        ".................................."
       ]
      },
      {
       "output_type": "stream",
       "stream": "stdout",
       "text": [
        "........................................."
       ]
      },
      {
       "output_type": "stream",
       "stream": "stdout",
       "text": [
        ".........................."
       ]
      },
      {
       "output_type": "stream",
       "stream": "stdout",
       "text": [
        ".............\n",
        "ucol............."
       ]
      },
      {
       "output_type": "stream",
       "stream": "stdout",
       "text": [
        "........................................"
       ]
      },
      {
       "output_type": "stream",
       "stream": "stdout",
       "text": [
        "........................................."
       ]
      },
      {
       "output_type": "stream",
       "stream": "stdout",
       "text": [
        "....................................."
       ]
      },
      {
       "output_type": "stream",
       "stream": "stdout",
       "text": [
        ".....\n",
        "umann.........................."
       ]
      },
      {
       "output_type": "stream",
       "stream": "stdout",
       "text": [
        ".................................."
       ]
      },
      {
       "output_type": "stream",
       "stream": "stdout",
       "text": [
        "...................................."
       ]
      },
      {
       "output_type": "stream",
       "stream": "stdout",
       "text": [
        "............\n",
        "umont.."
       ]
      },
      {
       "output_type": "stream",
       "stream": "stdout",
       "text": [
        ".............................."
       ]
      },
      {
       "output_type": "stream",
       "stream": "stdout",
       "text": [
        "...................................."
       ]
      },
      {
       "output_type": "stream",
       "stream": "stdout",
       "text": [
        "..............................."
       ]
      },
      {
       "output_type": "stream",
       "stream": "stdout",
       "text": [
        "................\n",
        "unij."
       ]
      },
      {
       "output_type": "stream",
       "stream": "stdout",
       "text": [
        "................................"
       ]
      },
      {
       "output_type": "stream",
       "stream": "stdout",
       "text": [
        ".............................."
       ]
      },
      {
       "output_type": "stream",
       "stream": "stdout",
       "text": [
        "..................................."
       ]
      },
      {
       "output_type": "stream",
       "stream": "stdout",
       "text": [
        "................\n",
        "ustutt........."
       ]
      },
      {
       "output_type": "stream",
       "stream": "stdout",
       "text": [
        "................................"
       ]
      },
      {
       "output_type": "stream",
       "stream": "stdout",
       "text": [
        "..................................."
       ]
      },
      {
       "output_type": "stream",
       "stream": "stdout",
       "text": [
        "..................................."
       ]
      },
      {
       "output_type": "stream",
       "stream": "stdout",
       "text": [
        "..........................\n",
        "wustl.."
       ]
      },
      {
       "output_type": "stream",
       "stream": "stdout",
       "text": [
        "..........................................."
       ]
      },
      {
       "output_type": "stream",
       "stream": "stdout",
       "text": [
        ".........................................."
       ]
      },
      {
       "output_type": "stream",
       "stream": "stdout",
       "text": [
        "............................\n",
        "\n",
        "Reading routes.run4\n",
        "adv"
       ]
      },
      {
       "output_type": "stream",
       "stream": "stdout",
       "text": [
        "...................."
       ]
      },
      {
       "output_type": "stream",
       "stream": "stdout",
       "text": [
        "........................................"
       ]
      },
      {
       "output_type": "stream",
       "stream": "stdout",
       "text": [
        "..........................................."
       ]
      },
      {
       "output_type": "stream",
       "stream": "stdout",
       "text": [
        "......\n",
        "austr........................."
       ]
      },
      {
       "output_type": "stream",
       "stream": "stdout",
       "text": [
        "........................................."
       ]
      },
      {
       "output_type": "stream",
       "stream": "stdout",
       "text": [
        "........................................"
       ]
      },
      {
       "output_type": "stream",
       "stream": "stdout",
       "text": [
        "......................\n",
        "austr2."
       ]
      },
      {
       "output_type": "stream",
       "stream": "stdout",
       "text": [
        ".................................."
       ]
      },
      {
       "output_type": "stream",
       "stream": "stdout",
       "text": [
        ".................................."
       ]
      },
      {
       "output_type": "stream",
       "stream": "stdout",
       "text": [
        "......................\n",
        "bnl.."
       ]
      },
      {
       "output_type": "stream",
       "stream": "stdout",
       "text": [
        "............................"
       ]
      },
      {
       "output_type": "stream",
       "stream": "stdout",
       "text": [
        "......"
       ]
      },
      {
       "output_type": "stream",
       "stream": "stdout",
       "text": [
        "......"
       ]
      },
      {
       "output_type": "stream",
       "stream": "stdout",
       "text": [
        ".................................................."
       ]
      },
      {
       "output_type": "stream",
       "stream": "stdout",
       "text": [
        ".............."
       ]
      },
      {
       "output_type": "stream",
       "stream": "stdout",
       "text": [
        "................................\n",
        "bsdi."
       ]
      },
      {
       "output_type": "stream",
       "stream": "stdout",
       "text": [
        "...................................."
       ]
      },
      {
       "output_type": "stream",
       "stream": "stdout",
       "text": [
        "......................................"
       ]
      },
      {
       "output_type": "stream",
       "stream": "stdout",
       "text": [
        "......................................"
       ]
      },
      {
       "output_type": "stream",
       "stream": "stdout",
       "text": [
        "\n",
        "connix........................"
       ]
      },
      {
       "output_type": "stream",
       "stream": "stdout",
       "text": [
        "...................................."
       ]
      },
      {
       "output_type": "stream",
       "stream": "stdout",
       "text": [
        "......................................"
       ]
      },
      {
       "output_type": "stream",
       "stream": "stdout",
       "text": [
        ".......\n",
        "harv....................."
       ]
      },
      {
       "output_type": "stream",
       "stream": "stdout",
       "text": [
        "...........................\n",
        "inria.."
       ]
      },
      {
       "output_type": "stream",
       "stream": "stdout",
       "text": [
        ".................................."
       ]
      },
      {
       "output_type": "stream",
       "stream": "stdout",
       "text": [
        "................................"
       ]
      },
      {
       "output_type": "stream",
       "stream": "stdout",
       "text": [
        "............................"
       ]
      },
      {
       "output_type": "stream",
       "stream": "stdout",
       "text": [
        ".....\n",
        "lbl..........................."
       ]
      },
      {
       "output_type": "stream",
       "stream": "stdout",
       "text": [
        "......................................."
       ]
      },
      {
       "output_type": "stream",
       "stream": "stdout",
       "text": [
        "...................................\n",
        "lbli"
       ]
      },
      {
       "output_type": "stream",
       "stream": "stdout",
       "text": [
        "................................"
       ]
      },
      {
       "output_type": "stream",
       "stream": "stdout",
       "text": [
        "................................"
       ]
      },
      {
       "output_type": "stream",
       "stream": "stdout",
       "text": [
        "....................\n",
        "mid........"
       ]
      },
      {
       "output_type": "stream",
       "stream": "stdout",
       "text": [
        "......................................"
       ]
      },
      {
       "output_type": "stream",
       "stream": "stdout",
       "text": [
        "......................................."
       ]
      },
      {
       "output_type": "stream",
       "stream": "stdout",
       "text": [
        ".......\n",
        "mit............................"
       ]
      },
      {
       "output_type": "stream",
       "stream": "stdout",
       "text": [
        "...................................."
       ]
      },
      {
       "output_type": "stream",
       "stream": "stdout",
       "text": [
        "......................................"
       ]
      },
      {
       "output_type": "stream",
       "stream": "stdout",
       "text": [
        "......\n",
        "ncar............................."
       ]
      },
      {
       "output_type": "stream",
       "stream": "stdout",
       "text": [
        "........................................"
       ]
      },
      {
       "output_type": "stream",
       "stream": "stdout",
       "text": [
        "............................................."
       ]
      },
      {
       "output_type": "stream",
       "stream": "stdout",
       "text": [
        "..........\n",
        "near.........................."
       ]
      },
      {
       "output_type": "stream",
       "stream": "stdout",
       "text": [
        "..........................................."
       ]
      },
      {
       "output_type": "stream",
       "stream": "stdout",
       "text": [
        "................................\n",
        "nrao......"
       ]
      },
      {
       "output_type": "stream",
       "stream": "stdout",
       "text": [
        "............................\n",
        "oce."
       ]
      },
      {
       "output_type": "stream",
       "stream": "stdout",
       "text": [
        "............................"
       ]
      },
      {
       "output_type": "stream",
       "stream": "stdout",
       "text": [
        "..........................."
       ]
      },
      {
       "output_type": "stream",
       "stream": "stdout",
       "text": [
        ".............................\n",
        "panix.."
       ]
      },
      {
       "output_type": "stream",
       "stream": "stdout",
       "text": [
        "..........\n",
        "pubnix....................."
       ]
      },
      {
       "output_type": "stream",
       "stream": "stdout",
       "text": [
        ".................................\n",
        "rain.."
       ]
      },
      {
       "output_type": "stream",
       "stream": "stdout",
       "text": [
        "......................................."
       ]
      },
      {
       "output_type": "stream",
       "stream": "stdout",
       "text": [
        "........................................"
       ]
      },
      {
       "output_type": "stream",
       "stream": "stdout",
       "text": [
        ".....................\n",
        "sandia................."
       ]
      },
      {
       "output_type": "stream",
       "stream": "stdout",
       "text": [
        "..........................................."
       ]
      },
      {
       "output_type": "stream",
       "stream": "stdout",
       "text": [
        "........................................\n",
        "sdsc"
       ]
      },
      {
       "output_type": "stream",
       "stream": "stdout",
       "text": [
        "..................................."
       ]
      },
      {
       "output_type": "stream",
       "stream": "stdout",
       "text": [
        ".......................................\n",
        "sintef1"
       ]
      },
      {
       "output_type": "stream",
       "stream": "stdout",
       "text": [
        "..................................."
       ]
      },
      {
       "output_type": "stream",
       "stream": "stdout",
       "text": [
        "........................................."
       ]
      },
      {
       "output_type": "stream",
       "stream": "stdout",
       "text": [
        "..........................\n",
        "sintef2."
       ]
      },
      {
       "output_type": "stream",
       "stream": "stdout",
       "text": [
        "......................................"
       ]
      },
      {
       "output_type": "stream",
       "stream": "stdout",
       "text": [
        "......................................."
       ]
      },
      {
       "output_type": "stream",
       "stream": "stdout",
       "text": [
        "......................................\n",
        "sri."
       ]
      },
      {
       "output_type": "stream",
       "stream": "stdout",
       "text": [
        "....................................."
       ]
      },
      {
       "output_type": "stream",
       "stream": "stdout",
       "text": [
        ".........................................."
       ]
      },
      {
       "output_type": "stream",
       "stream": "stdout",
       "text": [
        "......................."
       ]
      },
      {
       "output_type": "stream",
       "stream": "stdout",
       "text": [
        "....."
       ]
      },
      {
       "output_type": "stream",
       "stream": "stdout",
       "text": [
        "...."
       ]
      },
      {
       "output_type": "stream",
       "stream": "stdout",
       "text": [
        "......\n",
        "ucl..."
       ]
      },
      {
       "output_type": "stream",
       "stream": "stdout",
       "text": [
        "..........................."
       ]
      },
      {
       "output_type": "stream",
       "stream": "stdout",
       "text": [
        ".............................."
       ]
      },
      {
       "output_type": "stream",
       "stream": "stdout",
       "text": [
        ".................................."
       ]
      },
      {
       "output_type": "stream",
       "stream": "stdout",
       "text": [
        "................\n",
        "ucla.........."
       ]
      },
      {
       "output_type": "stream",
       "stream": "stdout",
       "text": [
        "......................................"
       ]
      },
      {
       "output_type": "stream",
       "stream": "stdout",
       "text": [
        ".................................."
       ]
      },
      {
       "output_type": "stream",
       "stream": "stdout",
       "text": [
        "...............\n",
        "ucol............."
       ]
      },
      {
       "output_type": "stream",
       "stream": "stdout",
       "text": [
        "....................................."
       ]
      },
      {
       "output_type": "stream",
       "stream": "stdout",
       "text": [
        "...................................."
       ]
      },
      {
       "output_type": "stream",
       "stream": "stdout",
       "text": [
        "....\n",
        "ukc.........................."
       ]
      },
      {
       "output_type": "stream",
       "stream": "stdout",
       "text": [
        "....\n",
        "umann.."
       ]
      },
      {
       "output_type": "stream",
       "stream": "stdout",
       "text": [
        ".................................."
       ]
      },
      {
       "output_type": "stream",
       "stream": "stdout",
       "text": [
        "............................."
       ]
      },
      {
       "output_type": "stream",
       "stream": "stdout",
       "text": [
        "..................................."
       ]
      },
      {
       "output_type": "stream",
       "stream": "stdout",
       "text": [
        "....................\n",
        "umont."
       ]
      },
      {
       "output_type": "stream",
       "stream": "stdout",
       "text": [
        "................................."
       ]
      },
      {
       "output_type": "stream",
       "stream": "stdout",
       "text": [
        "..................................."
       ]
      },
      {
       "output_type": "stream",
       "stream": "stdout",
       "text": [
        "....................................."
       ]
      },
      {
       "output_type": "stream",
       "stream": "stdout",
       "text": [
        ".......................\n",
        "unij."
       ]
      },
      {
       "output_type": "stream",
       "stream": "stdout",
       "text": [
        "......................................."
       ]
      },
      {
       "output_type": "stream",
       "stream": "stdout",
       "text": [
        "..........................................."
       ]
      },
      {
       "output_type": "stream",
       "stream": "stdout",
       "text": [
        ".........................\n",
        "ustutt.."
       ]
      },
      {
       "output_type": "stream",
       "stream": "stdout",
       "text": [
        "..................................."
       ]
      },
      {
       "output_type": "stream",
       "stream": "stdout",
       "text": [
        "..................................."
       ]
      },
      {
       "output_type": "stream",
       "stream": "stdout",
       "text": [
        "..................................."
       ]
      },
      {
       "output_type": "stream",
       "stream": "stdout",
       "text": [
        "..\n",
        "wustl............................"
       ]
      },
      {
       "output_type": "stream",
       "stream": "stdout",
       "text": [
        "......................................"
       ]
      },
      {
       "output_type": "stream",
       "stream": "stdout",
       "text": [
        "....................................."
       ]
      },
      {
       "output_type": "stream",
       "stream": "stdout",
       "text": [
        "....\n",
        "\n",
        "Reading routes.run5\n",
        "adv."
       ]
      },
      {
       "output_type": "stream",
       "stream": "stdout",
       "text": [
        "...................................."
       ]
      },
      {
       "output_type": "stream",
       "stream": "stdout",
       "text": [
        "........................................"
       ]
      },
      {
       "output_type": "stream",
       "stream": "stdout",
       "text": [
        "............................................"
       ]
      },
      {
       "output_type": "stream",
       "stream": "stdout",
       "text": [
        "...................................."
       ]
      },
      {
       "output_type": "stream",
       "stream": "stdout",
       "text": [
        "..........................\n",
        "austr.."
       ]
      },
      {
       "output_type": "stream",
       "stream": "stdout",
       "text": [
        "......................................."
       ]
      },
      {
       "output_type": "stream",
       "stream": "stdout",
       "text": [
        "........................................."
       ]
      },
      {
       "output_type": "stream",
       "stream": "stdout",
       "text": [
        "........................................"
       ]
      },
      {
       "output_type": "stream",
       "stream": "stdout",
       "text": [
        "......................................."
       ]
      },
      {
       "output_type": "stream",
       "stream": "stdout",
       "text": [
        "......................................."
       ]
      },
      {
       "output_type": "stream",
       "stream": "stdout",
       "text": [
        "..\n",
        "austr2..........................."
       ]
      },
      {
       "output_type": "stream",
       "stream": "stdout",
       "text": [
        "..................................."
       ]
      },
      {
       "output_type": "stream",
       "stream": "stdout",
       "text": [
        "..................................."
       ]
      },
      {
       "output_type": "stream",
       "stream": "stdout",
       "text": [
        "......................................"
       ]
      },
      {
       "output_type": "stream",
       "stream": "stdout",
       "text": [
        ".................\n",
        "bnl."
       ]
      },
      {
       "output_type": "stream",
       "stream": "stdout",
       "text": [
        "................"
       ]
      },
      {
       "output_type": "stream",
       "stream": "stdout",
       "text": [
        "..........................................."
       ]
      },
      {
       "output_type": "stream",
       "stream": "stdout",
       "text": [
        "............................................"
       ]
      },
      {
       "output_type": "stream",
       "stream": "stdout",
       "text": [
        "......................................"
       ]
      },
      {
       "output_type": "stream",
       "stream": "stdout",
       "text": [
        "..................................\n",
        "bsdi."
       ]
      },
      {
       "output_type": "stream",
       "stream": "stdout",
       "text": [
        "....................................."
       ]
      },
      {
       "output_type": "stream",
       "stream": "stdout",
       "text": [
        "........................................."
       ]
      },
      {
       "output_type": "stream",
       "stream": "stdout",
       "text": [
        "...................................."
       ]
      },
      {
       "output_type": "stream",
       "stream": "stdout",
       "text": [
        "...................................."
       ]
      },
      {
       "output_type": "stream",
       "stream": "stdout",
       "text": [
        "..................................."
       ]
      },
      {
       "output_type": "stream",
       "stream": "stdout",
       "text": [
        "..........\n",
        "connix."
       ]
      },
      {
       "output_type": "stream",
       "stream": "stdout",
       "text": [
        "......................................"
       ]
      },
      {
       "output_type": "stream",
       "stream": "stdout",
       "text": [
        ".........................................."
       ]
      },
      {
       "output_type": "stream",
       "stream": "stdout",
       "text": [
        "......................................"
       ]
      },
      {
       "output_type": "stream",
       "stream": "stdout",
       "text": [
        "......................................"
       ]
      },
      {
       "output_type": "stream",
       "stream": "stdout",
       "text": [
        "....................................."
       ]
      },
      {
       "output_type": "stream",
       "stream": "stdout",
       "text": [
        "...................\n",
        "harv......"
       ]
      },
      {
       "output_type": "stream",
       "stream": "stdout",
       "text": [
        "................................."
       ]
      },
      {
       "output_type": "stream",
       "stream": "stdout",
       "text": [
        "................................."
       ]
      },
      {
       "output_type": "stream",
       "stream": "stdout",
       "text": [
        "...................................."
       ]
      },
      {
       "output_type": "stream",
       "stream": "stdout",
       "text": [
        "......................"
       ]
      },
      {
       "output_type": "stream",
       "stream": "stdout",
       "text": [
        "....."
       ]
      },
      {
       "output_type": "stream",
       "stream": "stdout",
       "text": [
        "...."
       ]
      },
      {
       "output_type": "stream",
       "stream": "stdout",
       "text": [
        "..........................................."
       ]
      },
      {
       "output_type": "stream",
       "stream": "stdout",
       "text": [
        "..........\n",
        "inria.."
       ]
      },
      {
       "output_type": "stream",
       "stream": "stdout",
       "text": [
        "..............................."
       ]
      },
      {
       "output_type": "stream",
       "stream": "stdout",
       "text": [
        "................................"
       ]
      },
      {
       "output_type": "stream",
       "stream": "stdout",
       "text": [
        "..............................."
       ]
      },
      {
       "output_type": "stream",
       "stream": "stdout",
       "text": [
        ".................................."
       ]
      },
      {
       "output_type": "stream",
       "stream": "stdout",
       "text": [
        "..............................."
       ]
      },
      {
       "output_type": "stream",
       "stream": "stdout",
       "text": [
        ".................................."
       ]
      },
      {
       "output_type": "stream",
       "stream": "stdout",
       "text": [
        "................................"
       ]
      },
      {
       "output_type": "stream",
       "stream": "stdout",
       "text": [
        "...\n",
        "lbl..........................."
       ]
      },
      {
       "output_type": "stream",
       "stream": "stdout",
       "text": [
        "......................................"
       ]
      },
      {
       "output_type": "stream",
       "stream": "stdout",
       "text": [
        "..........................................."
       ]
      },
      {
       "output_type": "stream",
       "stream": "stdout",
       "text": [
        "............................................."
       ]
      },
      {
       "output_type": "stream",
       "stream": "stdout",
       "text": [
        "......................................."
       ]
      },
      {
       "output_type": "stream",
       "stream": "stdout",
       "text": [
        ".................................\n",
        "lbli.."
       ]
      },
      {
       "output_type": "stream",
       "stream": "stdout",
       "text": [
        ".....................\n",
        "mid."
       ]
      },
      {
       "output_type": "stream",
       "stream": "stdout",
       "text": [
        "....................................."
       ]
      },
      {
       "output_type": "stream",
       "stream": "stdout",
       "text": [
        "......................................"
       ]
      },
      {
       "output_type": "stream",
       "stream": "stdout",
       "text": [
        "........................................."
       ]
      },
      {
       "output_type": "stream",
       "stream": "stdout",
       "text": [
        ".........................................."
       ]
      },
      {
       "output_type": "stream",
       "stream": "stdout",
       "text": [
        "......................................"
       ]
      },
      {
       "output_type": "stream",
       "stream": "stdout",
       "text": [
        "........\n",
        "mit.."
       ]
      },
      {
       "output_type": "stream",
       "stream": "stdout",
       "text": [
        "........................................."
       ]
      },
      {
       "output_type": "stream",
       "stream": "stdout",
       "text": [
        "........................................"
       ]
      },
      {
       "output_type": "stream",
       "stream": "stdout",
       "text": [
        "............................................."
       ]
      },
      {
       "output_type": "stream",
       "stream": "stdout",
       "text": [
        "......................................."
       ]
      },
      {
       "output_type": "stream",
       "stream": "stdout",
       "text": [
        ".................................."
       ]
      },
      {
       "output_type": "stream",
       "stream": "stdout",
       "text": [
        ".....\n",
        "ncar..........................."
       ]
      },
      {
       "output_type": "stream",
       "stream": "stdout",
       "text": [
        "......................................."
       ]
      },
      {
       "output_type": "stream",
       "stream": "stdout",
       "text": [
        "........................................."
       ]
      },
      {
       "output_type": "stream",
       "stream": "stdout",
       "text": [
        "...................................."
       ]
      },
      {
       "output_type": "stream",
       "stream": "stdout",
       "text": [
        "......................................"
       ]
      },
      {
       "output_type": "stream",
       "stream": "stdout",
       "text": [
        ".........................\n",
        "near."
       ]
      },
      {
       "output_type": "stream",
       "stream": "stdout",
       "text": [
        "............................."
       ]
      },
      {
       "output_type": "stream",
       "stream": "stdout",
       "text": [
        "............................................"
       ]
      },
      {
       "output_type": "stream",
       "stream": "stdout",
       "text": [
        ".........................................."
       ]
      },
      {
       "output_type": "stream",
       "stream": "stdout",
       "text": [
        "....................................."
       ]
      },
      {
       "output_type": "stream",
       "stream": "stdout",
       "text": [
        "...................................."
       ]
      },
      {
       "output_type": "stream",
       "stream": "stdout",
       "text": [
        "......................................."
       ]
      },
      {
       "output_type": "stream",
       "stream": "stdout",
       "text": [
        "...........\n",
        "nrao................"
       ]
      },
      {
       "output_type": "stream",
       "stream": "stdout",
       "text": [
        ".............................."
       ]
      },
      {
       "output_type": "stream",
       "stream": "stdout",
       "text": [
        "..................................."
       ]
      },
      {
       "output_type": "stream",
       "stream": "stdout",
       "text": [
        ".................\n",
        "oce."
       ]
      },
      {
       "output_type": "stream",
       "stream": "stdout",
       "text": [
        "..............................."
       ]
      },
      {
       "output_type": "stream",
       "stream": "stdout",
       "text": [
        ".............................."
       ]
      },
      {
       "output_type": "stream",
       "stream": "stdout",
       "text": [
        "............................"
       ]
      },
      {
       "output_type": "stream",
       "stream": "stdout",
       "text": [
        "...................................."
       ]
      },
      {
       "output_type": "stream",
       "stream": "stdout",
       "text": [
        ".............................."
       ]
      },
      {
       "output_type": "stream",
       "stream": "stdout",
       "text": [
        "................................."
       ]
      },
      {
       "output_type": "stream",
       "stream": "stdout",
       "text": [
        "...................................."
       ]
      },
      {
       "output_type": "stream",
       "stream": "stdout",
       "text": [
        "........\n",
        "panix..........................."
       ]
      },
      {
       "output_type": "stream",
       "stream": "stdout",
       "text": [
        ".........................\n",
        "pubnix."
       ]
      },
      {
       "output_type": "stream",
       "stream": "stdout",
       "text": [
        "............................................."
       ]
      },
      {
       "output_type": "stream",
       "stream": "stdout",
       "text": [
        "...................................."
       ]
      },
      {
       "output_type": "stream",
       "stream": "stdout",
       "text": [
        ".............................."
       ]
      },
      {
       "output_type": "stream",
       "stream": "stdout",
       "text": [
        "......................................"
       ]
      },
      {
       "output_type": "stream",
       "stream": "stdout",
       "text": [
        "........................................"
       ]
      },
      {
       "output_type": "stream",
       "stream": "stdout",
       "text": [
        "........................................"
       ]
      },
      {
       "output_type": "stream",
       "stream": "stdout",
       "text": [
        "...................\n",
        "rain..........."
       ]
      },
      {
       "output_type": "stream",
       "stream": "stdout",
       "text": [
        "..................................."
       ]
      },
      {
       "output_type": "stream",
       "stream": "stdout",
       "text": [
        "......................................"
       ]
      },
      {
       "output_type": "stream",
       "stream": "stdout",
       "text": [
        "........................................"
       ]
      },
      {
       "output_type": "stream",
       "stream": "stdout",
       "text": [
        "........................................"
       ]
      },
      {
       "output_type": "stream",
       "stream": "stdout",
       "text": [
        "......................................"
       ]
      },
      {
       "output_type": "stream",
       "stream": "stdout",
       "text": [
        ".............\n",
        "sandia."
       ]
      },
      {
       "output_type": "stream",
       "stream": "stdout",
       "text": [
        "........................................."
       ]
      },
      {
       "output_type": "stream",
       "stream": "stdout",
       "text": [
        "........................................"
       ]
      },
      {
       "output_type": "stream",
       "stream": "stdout",
       "text": [
        ".................."
       ]
      },
      {
       "output_type": "stream",
       "stream": "stdout",
       "text": [
        "....."
       ]
      },
      {
       "output_type": "stream",
       "stream": "stdout",
       "text": [
        "....."
       ]
      },
      {
       "output_type": "stream",
       "stream": "stdout",
       "text": [
        "...................................."
       ]
      },
      {
       "output_type": "stream",
       "stream": "stdout",
       "text": [
        "........................................"
       ]
      },
      {
       "output_type": "stream",
       "stream": "stdout",
       "text": [
        "..................................."
       ]
      },
      {
       "output_type": "stream",
       "stream": "stdout",
       "text": [
        "..............."
       ]
      },
      {
       "output_type": "stream",
       "stream": "stdout",
       "text": [
        "\n",
        "sdsc......."
       ]
      },
      {
       "output_type": "stream",
       "stream": "stdout",
       "text": [
        ".................................."
       ]
      },
      {
       "output_type": "stream",
       "stream": "stdout",
       "text": [
        "................................."
       ]
      },
      {
       "output_type": "stream",
       "stream": "stdout",
       "text": [
        "....................................."
       ]
      },
      {
       "output_type": "stream",
       "stream": "stdout",
       "text": [
        "......................................."
       ]
      },
      {
       "output_type": "stream",
       "stream": "stdout",
       "text": [
        "..................................."
       ]
      },
      {
       "output_type": "stream",
       "stream": "stdout",
       "text": [
        "...............................\n",
        "sintef1."
       ]
      },
      {
       "output_type": "stream",
       "stream": "stdout",
       "text": [
        ".................................."
       ]
      },
      {
       "output_type": "stream",
       "stream": "stdout",
       "text": [
        "..................................."
       ]
      },
      {
       "output_type": "stream",
       "stream": "stdout",
       "text": [
        ".................................."
       ]
      },
      {
       "output_type": "stream",
       "stream": "stdout",
       "text": [
        "................................."
       ]
      },
      {
       "output_type": "stream",
       "stream": "stdout",
       "text": [
        "......................................"
       ]
      },
      {
       "output_type": "stream",
       "stream": "stdout",
       "text": [
        "........................................"
       ]
      },
      {
       "output_type": "stream",
       "stream": "stdout",
       "text": [
        "......................\n",
        "sintef2."
       ]
      },
      {
       "output_type": "stream",
       "stream": "stdout",
       "text": [
        "......................................."
       ]
      },
      {
       "output_type": "stream",
       "stream": "stdout",
       "text": [
        "..................................."
       ]
      },
      {
       "output_type": "stream",
       "stream": "stdout",
       "text": [
        "......................................"
       ]
      },
      {
       "output_type": "stream",
       "stream": "stdout",
       "text": [
        "......................................"
       ]
      },
      {
       "output_type": "stream",
       "stream": "stdout",
       "text": [
        "............................................."
       ]
      },
      {
       "output_type": "stream",
       "stream": "stdout",
       "text": [
        "..............................\n",
        "sri."
       ]
      },
      {
       "output_type": "stream",
       "stream": "stdout",
       "text": [
        "......................................"
       ]
      },
      {
       "output_type": "stream",
       "stream": "stdout",
       "text": [
        "......................................."
       ]
      },
      {
       "output_type": "stream",
       "stream": "stdout",
       "text": [
        "..................................."
       ]
      },
      {
       "output_type": "stream",
       "stream": "stdout",
       "text": [
        "....................................."
       ]
      },
      {
       "output_type": "stream",
       "stream": "stdout",
       "text": [
        "................................"
       ]
      },
      {
       "output_type": "stream",
       "stream": "stdout",
       "text": [
        "...................\n",
        "ucl."
       ]
      },
      {
       "output_type": "stream",
       "stream": "stdout",
       "text": [
        "............................."
       ]
      },
      {
       "output_type": "stream",
       "stream": "stdout",
       "text": [
        "...................................."
       ]
      },
      {
       "output_type": "stream",
       "stream": "stdout",
       "text": [
        ".................................."
       ]
      },
      {
       "output_type": "stream",
       "stream": "stdout",
       "text": [
        "......................................."
       ]
      },
      {
       "output_type": "stream",
       "stream": "stdout",
       "text": [
        "...................."
       ]
      },
      {
       "output_type": "stream",
       "stream": "stdout",
       "text": [
        "............................\n",
        "ucla.."
       ]
      },
      {
       "output_type": "stream",
       "stream": "stdout",
       "text": [
        "....................................."
       ]
      },
      {
       "output_type": "stream",
       "stream": "stdout",
       "text": [
        "......................................"
       ]
      },
      {
       "output_type": "stream",
       "stream": "stdout",
       "text": [
        "....................................."
       ]
      },
      {
       "output_type": "stream",
       "stream": "stdout",
       "text": [
        "......................................."
       ]
      },
      {
       "output_type": "stream",
       "stream": "stdout",
       "text": [
        ".................................."
       ]
      },
      {
       "output_type": "stream",
       "stream": "stdout",
       "text": [
        "................\n",
        "ucol.............."
       ]
      },
      {
       "output_type": "stream",
       "stream": "stdout",
       "text": [
        "......................................"
       ]
      },
      {
       "output_type": "stream",
       "stream": "stdout",
       "text": [
        "...................................."
       ]
      },
      {
       "output_type": "stream",
       "stream": "stdout",
       "text": [
        "......................................"
       ]
      },
      {
       "output_type": "stream",
       "stream": "stdout",
       "text": [
        "....................................."
       ]
      },
      {
       "output_type": "stream",
       "stream": "stdout",
       "text": [
        "............................\n",
        "ukc."
       ]
      },
      {
       "output_type": "stream",
       "stream": "stdout",
       "text": [
        "...................................."
       ]
      },
      {
       "output_type": "stream",
       "stream": "stdout",
       "text": [
        "..................................."
       ]
      },
      {
       "output_type": "stream",
       "stream": "stdout",
       "text": [
        "......................................."
       ]
      },
      {
       "output_type": "stream",
       "stream": "stdout",
       "text": [
        "...................................."
       ]
      },
      {
       "output_type": "stream",
       "stream": "stdout",
       "text": [
        ".................................."
       ]
      },
      {
       "output_type": "stream",
       "stream": "stdout",
       "text": [
        "....................\n",
        "umann."
       ]
      },
      {
       "output_type": "stream",
       "stream": "stdout",
       "text": [
        "..................................."
       ]
      },
      {
       "output_type": "stream",
       "stream": "stdout",
       "text": [
        "..........................."
       ]
      },
      {
       "output_type": "stream",
       "stream": "stdout",
       "text": [
        "..........................."
       ]
      },
      {
       "output_type": "stream",
       "stream": "stdout",
       "text": [
        "...................................."
       ]
      },
      {
       "output_type": "stream",
       "stream": "stdout",
       "text": [
        "................................."
       ]
      },
      {
       "output_type": "stream",
       "stream": "stdout",
       "text": [
        "..................\n",
        "umont......"
       ]
      },
      {
       "output_type": "stream",
       "stream": "stdout",
       "text": [
        "..............................."
       ]
      },
      {
       "output_type": "stream",
       "stream": "stdout",
       "text": [
        "..............................."
       ]
      },
      {
       "output_type": "stream",
       "stream": "stdout",
       "text": [
        "........................."
       ]
      },
      {
       "output_type": "stream",
       "stream": "stdout",
       "text": [
        "................................."
       ]
      },
      {
       "output_type": "stream",
       "stream": "stdout",
       "text": [
        "........................"
       ]
      },
      {
       "output_type": "stream",
       "stream": "stdout",
       "text": [
        "..............................."
       ]
      },
      {
       "output_type": "stream",
       "stream": "stdout",
       "text": [
        ".....\n",
        "unij...................."
       ]
      },
      {
       "output_type": "stream",
       "stream": "stdout",
       "text": [
        ".................................."
       ]
      },
      {
       "output_type": "stream",
       "stream": "stdout",
       "text": [
        "..........................."
       ]
      },
      {
       "output_type": "stream",
       "stream": "stdout",
       "text": [
        "...."
       ]
      },
      {
       "output_type": "stream",
       "stream": "stdout",
       "text": [
        "...."
       ]
      },
      {
       "output_type": "stream",
       "stream": "stdout",
       "text": [
        "..............................."
       ]
      },
      {
       "output_type": "stream",
       "stream": "stdout",
       "text": [
        "....................................."
       ]
      },
      {
       "output_type": "stream",
       "stream": "stdout",
       "text": [
        "......................................."
       ]
      },
      {
       "output_type": "stream",
       "stream": "stdout",
       "text": [
        "...........\n",
        "ustutt."
       ]
      },
      {
       "output_type": "stream",
       "stream": "stdout",
       "text": [
        ".................................."
       ]
      },
      {
       "output_type": "stream",
       "stream": "stdout",
       "text": [
        ".................................."
       ]
      },
      {
       "output_type": "stream",
       "stream": "stdout",
       "text": [
        "................................."
       ]
      },
      {
       "output_type": "stream",
       "stream": "stdout",
       "text": [
        ".................................."
       ]
      },
      {
       "output_type": "stream",
       "stream": "stdout",
       "text": [
        "....................................."
       ]
      },
      {
       "output_type": "stream",
       "stream": "stdout",
       "text": [
        "................................."
       ]
      },
      {
       "output_type": "stream",
       "stream": "stdout",
       "text": [
        ".\n",
        "wustl........................."
       ]
      },
      {
       "output_type": "stream",
       "stream": "stdout",
       "text": [
        ".................................."
       ]
      },
      {
       "output_type": "stream",
       "stream": "stdout",
       "text": [
        "...................................."
       ]
      },
      {
       "output_type": "stream",
       "stream": "stdout",
       "text": [
        "..................................."
       ]
      },
      {
       "output_type": "stream",
       "stream": "stdout",
       "text": [
        "..................................."
       ]
      },
      {
       "output_type": "stream",
       "stream": "stdout",
       "text": [
        "..................................."
       ]
      },
      {
       "output_type": "stream",
       "stream": "stdout",
       "text": [
        ".....................\n",
        "\n",
        "Reading routes.run6\n",
        "adv"
       ]
      },
      {
       "output_type": "stream",
       "stream": "stdout",
       "text": [
        "..........."
       ]
      },
      {
       "output_type": "stream",
       "stream": "stdout",
       "text": [
        "................................"
       ]
      },
      {
       "output_type": "stream",
       "stream": "stdout",
       "text": [
        "....................................."
       ]
      },
      {
       "output_type": "stream",
       "stream": "stdout",
       "text": [
        "...................................."
       ]
      },
      {
       "output_type": "stream",
       "stream": "stdout",
       "text": [
        "........................................"
       ]
      },
      {
       "output_type": "stream",
       "stream": "stdout",
       "text": [
        "............\n",
        "austr.................."
       ]
      },
      {
       "output_type": "stream",
       "stream": "stdout",
       "text": [
        ".................................."
       ]
      },
      {
       "output_type": "stream",
       "stream": "stdout",
       "text": [
        "............"
       ]
      },
      {
       "output_type": "stream",
       "stream": "stdout",
       "text": [
        "..................................."
       ]
      },
      {
       "output_type": "stream",
       "stream": "stdout",
       "text": [
        "........................................"
       ]
      },
      {
       "output_type": "stream",
       "stream": "stdout",
       "text": [
        "....................................."
       ]
      },
      {
       "output_type": "stream",
       "stream": "stdout",
       "text": [
        "...........................\n",
        "austr2."
       ]
      },
      {
       "output_type": "stream",
       "stream": "stdout",
       "text": [
        "..............................."
       ]
      },
      {
       "output_type": "stream",
       "stream": "stdout",
       "text": [
        ".............................."
       ]
      },
      {
       "output_type": "stream",
       "stream": "stdout",
       "text": [
        "................................."
       ]
      },
      {
       "output_type": "stream",
       "stream": "stdout",
       "text": [
        "..........................."
       ]
      },
      {
       "output_type": "stream",
       "stream": "stdout",
       "text": [
        "......................."
       ]
      },
      {
       "output_type": "stream",
       "stream": "stdout",
       "text": [
        "............."
       ]
      },
      {
       "output_type": "stream",
       "stream": "stdout",
       "text": [
        ".........................."
       ]
      },
      {
       "output_type": "stream",
       "stream": "stdout",
       "text": [
        ".....\n",
        "bnl.."
       ]
      },
      {
       "output_type": "stream",
       "stream": "stdout",
       "text": [
        "......................................"
       ]
      },
      {
       "output_type": "stream",
       "stream": "stdout",
       "text": [
        "............................................"
       ]
      },
      {
       "output_type": "stream",
       "stream": "stdout",
       "text": [
        ".............................................."
       ]
      },
      {
       "output_type": "stream",
       "stream": "stdout",
       "text": [
        "........................................"
       ]
      },
      {
       "output_type": "stream",
       "stream": "stdout",
       "text": [
        "....................................."
       ]
      },
      {
       "output_type": "stream",
       "stream": "stdout",
       "text": [
        "..\n",
        "bsdi.."
       ]
      },
      {
       "output_type": "stream",
       "stream": "stdout",
       "text": [
        "................................"
       ]
      },
      {
       "output_type": "stream",
       "stream": "stdout",
       "text": [
        "........................................."
       ]
      },
      {
       "output_type": "stream",
       "stream": "stdout",
       "text": [
        "........................................"
       ]
      },
      {
       "output_type": "stream",
       "stream": "stdout",
       "text": [
        ".................................."
       ]
      },
      {
       "output_type": "stream",
       "stream": "stdout",
       "text": [
        "...............................\n",
        "connix."
       ]
      },
      {
       "output_type": "stream",
       "stream": "stdout",
       "text": [
        "......................................."
       ]
      },
      {
       "output_type": "stream",
       "stream": "stdout",
       "text": [
        "......................................"
       ]
      },
      {
       "output_type": "stream",
       "stream": "stdout",
       "text": [
        "......................................"
       ]
      },
      {
       "output_type": "stream",
       "stream": "stdout",
       "text": [
        "......................................."
       ]
      },
      {
       "output_type": "stream",
       "stream": "stdout",
       "text": [
        "........................................"
       ]
      },
      {
       "output_type": "stream",
       "stream": "stdout",
       "text": [
        "...................\n",
        "harv."
       ]
      },
      {
       "output_type": "stream",
       "stream": "stdout",
       "text": [
        "....................................."
       ]
      },
      {
       "output_type": "stream",
       "stream": "stdout",
       "text": [
        "..................................."
       ]
      },
      {
       "output_type": "stream",
       "stream": "stdout",
       "text": [
        "......................................"
       ]
      },
      {
       "output_type": "stream",
       "stream": "stdout",
       "text": [
        "..............................."
       ]
      },
      {
       "output_type": "stream",
       "stream": "stdout",
       "text": [
        "................................."
       ]
      },
      {
       "output_type": "stream",
       "stream": "stdout",
       "text": [
        "..............................."
       ]
      },
      {
       "output_type": "stream",
       "stream": "stdout",
       "text": [
        "...............\n",
        "inria.."
       ]
      },
      {
       "output_type": "stream",
       "stream": "stdout",
       "text": [
        "..........................."
       ]
      },
      {
       "output_type": "stream",
       "stream": "stdout",
       "text": [
        "............................."
       ]
      },
      {
       "output_type": "stream",
       "stream": "stdout",
       "text": [
        ".................................."
       ]
      },
      {
       "output_type": "stream",
       "stream": "stdout",
       "text": [
        "..............................."
       ]
      },
      {
       "output_type": "stream",
       "stream": "stdout",
       "text": [
        "..............................."
       ]
      },
      {
       "output_type": "stream",
       "stream": "stdout",
       "text": [
        "....................\n",
        "lbl."
       ]
      },
      {
       "output_type": "stream",
       "stream": "stdout",
       "text": [
        "...................................."
       ]
      },
      {
       "output_type": "stream",
       "stream": "stdout",
       "text": [
        "...................................."
       ]
      },
      {
       "output_type": "stream",
       "stream": "stdout",
       "text": [
        "................................."
       ]
      },
      {
       "output_type": "stream",
       "stream": "stdout",
       "text": [
        "......................................"
       ]
      },
      {
       "output_type": "stream",
       "stream": "stdout",
       "text": [
        "........................................."
       ]
      },
      {
       "output_type": "stream",
       "stream": "stdout",
       "text": [
        "........................\n",
        "lbli."
       ]
      },
      {
       "output_type": "stream",
       "stream": "stdout",
       "text": [
        "........................................"
       ]
      },
      {
       "output_type": "stream",
       "stream": "stdout",
       "text": [
        "...................................."
       ]
      },
      {
       "output_type": "stream",
       "stream": "stdout",
       "text": [
        "....................................."
       ]
      },
      {
       "output_type": "stream",
       "stream": "stdout",
       "text": [
        ".............................\n",
        "mid."
       ]
      },
      {
       "output_type": "stream",
       "stream": "stdout",
       "text": [
        "..................................."
       ]
      },
      {
       "output_type": "stream",
       "stream": "stdout",
       "text": [
        ".........................................."
       ]
      },
      {
       "output_type": "stream",
       "stream": "stdout",
       "text": [
        "...................................."
       ]
      },
      {
       "output_type": "stream",
       "stream": "stdout",
       "text": [
        "........................................"
       ]
      },
      {
       "output_type": "stream",
       "stream": "stdout",
       "text": [
        "...........................\n",
        "mit."
       ]
      },
      {
       "output_type": "stream",
       "stream": "stdout",
       "text": [
        ".............................."
       ]
      },
      {
       "output_type": "stream",
       "stream": "stdout",
       "text": [
        "......................................"
       ]
      },
      {
       "output_type": "stream",
       "stream": "stdout",
       "text": [
        "..................................."
       ]
      },
      {
       "output_type": "stream",
       "stream": "stdout",
       "text": [
        ".........................."
       ]
      },
      {
       "output_type": "stream",
       "stream": "stdout",
       "text": [
        "...................................."
       ]
      },
      {
       "output_type": "stream",
       "stream": "stdout",
       "text": [
        "..................................."
       ]
      },
      {
       "output_type": "stream",
       "stream": "stdout",
       "text": [
        "...\n",
        "ncar....................."
       ]
      },
      {
       "output_type": "stream",
       "stream": "stdout",
       "text": [
        "........................................"
       ]
      },
      {
       "output_type": "stream",
       "stream": "stdout",
       "text": [
        "........................................"
       ]
      },
      {
       "output_type": "stream",
       "stream": "stdout",
       "text": [
        ".........................................."
       ]
      },
      {
       "output_type": "stream",
       "stream": "stdout",
       "text": [
        "...................................."
       ]
      },
      {
       "output_type": "stream",
       "stream": "stdout",
       "text": [
        "..................\n",
        "near......."
       ]
      },
      {
       "output_type": "stream",
       "stream": "stdout",
       "text": [
        "....................................."
       ]
      },
      {
       "output_type": "stream",
       "stream": "stdout",
       "text": [
        ".................................."
       ]
      },
      {
       "output_type": "stream",
       "stream": "stdout",
       "text": [
        "................................"
       ]
      },
      {
       "output_type": "stream",
       "stream": "stdout",
       "text": [
        ".............................."
       ]
      },
      {
       "output_type": "stream",
       "stream": "stdout",
       "text": [
        "..............................."
       ]
      },
      {
       "output_type": "stream",
       "stream": "stdout",
       "text": [
        "....\n",
        "nrao........................."
       ]
      },
      {
       "output_type": "stream",
       "stream": "stdout",
       "text": [
        "................................"
       ]
      },
      {
       "output_type": "stream",
       "stream": "stdout",
       "text": [
        ".................................."
       ]
      },
      {
       "output_type": "stream",
       "stream": "stdout",
       "text": [
        "..................................."
       ]
      },
      {
       "output_type": "stream",
       "stream": "stdout",
       "text": [
        "........................"
       ]
      },
      {
       "output_type": "stream",
       "stream": "stdout",
       "text": [
        "................................"
       ]
      },
      {
       "output_type": "stream",
       "stream": "stdout",
       "text": [
        ".......\n",
        "oce.."
       ]
      },
      {
       "output_type": "stream",
       "stream": "stdout",
       "text": [
        "........."
       ]
      },
      {
       "output_type": "stream",
       "stream": "stdout",
       "text": [
        "....."
       ]
      },
      {
       "output_type": "stream",
       "stream": "stdout",
       "text": [
        "...."
       ]
      },
      {
       "output_type": "stream",
       "stream": "stdout",
       "text": [
        "..........................."
       ]
      },
      {
       "output_type": "stream",
       "stream": "stdout",
       "text": [
        "...................."
       ]
      },
      {
       "output_type": "stream",
       "stream": "stdout",
       "text": [
        ".............................."
       ]
      },
      {
       "output_type": "stream",
       "stream": "stdout",
       "text": [
        "............................."
       ]
      },
      {
       "output_type": "stream",
       "stream": "stdout",
       "text": [
        ".........."
       ]
      },
      {
       "output_type": "stream",
       "stream": "stdout",
       "text": [
        ".............."
       ]
      },
      {
       "output_type": "stream",
       "stream": "stdout",
       "text": [
        "........................."
       ]
      },
      {
       "output_type": "stream",
       "stream": "stdout",
       "text": [
        ".........................."
       ]
      },
      {
       "output_type": "stream",
       "stream": "stdout",
       "text": [
        ".......\n",
        "panix\n",
        "pubnix."
       ]
      },
      {
       "output_type": "stream",
       "stream": "stdout",
       "text": [
        "........................................"
       ]
      },
      {
       "output_type": "stream",
       "stream": "stdout",
       "text": [
        ".............................................."
       ]
      },
      {
       "output_type": "stream",
       "stream": "stdout",
       "text": [
        "......................................."
       ]
      },
      {
       "output_type": "stream",
       "stream": "stdout",
       "text": [
        "......................................."
       ]
      },
      {
       "output_type": "stream",
       "stream": "stdout",
       "text": [
        "....................................."
       ]
      },
      {
       "output_type": "stream",
       "stream": "stdout",
       "text": [
        "....\n",
        "rain........................"
       ]
      },
      {
       "output_type": "stream",
       "stream": "stdout",
       "text": [
        "....................................."
       ]
      },
      {
       "output_type": "stream",
       "stream": "stdout",
       "text": [
        "....................................."
       ]
      },
      {
       "output_type": "stream",
       "stream": "stdout",
       "text": [
        "....................................."
       ]
      },
      {
       "output_type": "stream",
       "stream": "stdout",
       "text": [
        "....................................."
       ]
      },
      {
       "output_type": "stream",
       "stream": "stdout",
       "text": [
        ".............................\n",
        "sandia."
       ]
      },
      {
       "output_type": "stream",
       "stream": "stdout",
       "text": [
        "....................................."
       ]
      },
      {
       "output_type": "stream",
       "stream": "stdout",
       "text": [
        "........................................"
       ]
      },
      {
       "output_type": "stream",
       "stream": "stdout",
       "text": [
        "..................................."
       ]
      },
      {
       "output_type": "stream",
       "stream": "stdout",
       "text": [
        "......................................"
       ]
      },
      {
       "output_type": "stream",
       "stream": "stdout",
       "text": [
        "..................................."
       ]
      },
      {
       "output_type": "stream",
       "stream": "stdout",
       "text": [
        ".................\n",
        "sdsc..............."
       ]
      },
      {
       "output_type": "stream",
       "stream": "stdout",
       "text": [
        "...................................."
       ]
      },
      {
       "output_type": "stream",
       "stream": "stdout",
       "text": [
        "......................................"
       ]
      },
      {
       "output_type": "stream",
       "stream": "stdout",
       "text": [
        "..............................."
       ]
      },
      {
       "output_type": "stream",
       "stream": "stdout",
       "text": [
        "........................."
       ]
      },
      {
       "output_type": "stream",
       "stream": "stdout",
       "text": [
        "....................................."
       ]
      },
      {
       "output_type": "stream",
       "stream": "stdout",
       "text": [
        "..................................."
       ]
      },
      {
       "output_type": "stream",
       "stream": "stdout",
       "text": [
        "..\n",
        "sintef1.."
       ]
      },
      {
       "output_type": "stream",
       "stream": "stdout",
       "text": [
        ".............................."
       ]
      },
      {
       "output_type": "stream",
       "stream": "stdout",
       "text": [
        ".................................."
       ]
      },
      {
       "output_type": "stream",
       "stream": "stdout",
       "text": [
        "..............................."
       ]
      },
      {
       "output_type": "stream",
       "stream": "stdout",
       "text": [
        ".................................."
       ]
      },
      {
       "output_type": "stream",
       "stream": "stdout",
       "text": [
        "..................................."
       ]
      },
      {
       "output_type": "stream",
       "stream": "stdout",
       "text": [
        "......................................."
       ]
      },
      {
       "output_type": "stream",
       "stream": "stdout",
       "text": [
        ".............\n",
        "sintef2................"
       ]
      },
      {
       "output_type": "stream",
       "stream": "stdout",
       "text": [
        "....................................."
       ]
      },
      {
       "output_type": "stream",
       "stream": "stdout",
       "text": [
        "..................................."
       ]
      },
      {
       "output_type": "stream",
       "stream": "stdout",
       "text": [
        ".............................."
       ]
      },
      {
       "output_type": "stream",
       "stream": "stdout",
       "text": [
        "....................................."
       ]
      },
      {
       "output_type": "stream",
       "stream": "stdout",
       "text": [
        "...............................\n",
        "sri."
       ]
      },
      {
       "output_type": "stream",
       "stream": "stdout",
       "text": [
        "...................................."
       ]
      },
      {
       "output_type": "stream",
       "stream": "stdout",
       "text": [
        "............................."
       ]
      },
      {
       "output_type": "stream",
       "stream": "stdout",
       "text": [
        ".........................."
       ]
      },
      {
       "output_type": "stream",
       "stream": "stdout",
       "text": [
        "......................................."
       ]
      },
      {
       "output_type": "stream",
       "stream": "stdout",
       "text": [
        "................................"
       ]
      },
      {
       "output_type": "stream",
       "stream": "stdout",
       "text": [
        "................................."
       ]
      },
      {
       "output_type": "stream",
       "stream": "stdout",
       "text": [
        "...............\n",
        "ucl......"
       ]
      },
      {
       "output_type": "stream",
       "stream": "stdout",
       "text": [
        "............................."
       ]
      },
      {
       "output_type": "stream",
       "stream": "stdout",
       "text": [
        "..........................."
       ]
      },
      {
       "output_type": "stream",
       "stream": "stdout",
       "text": [
        "..............."
       ]
      },
      {
       "output_type": "stream",
       "stream": "stdout",
       "text": [
        "............................."
       ]
      },
      {
       "output_type": "stream",
       "stream": "stdout",
       "text": [
        ".............................."
       ]
      },
      {
       "output_type": "stream",
       "stream": "stdout",
       "text": [
        "......................."
       ]
      },
      {
       "output_type": "stream",
       "stream": "stdout",
       "text": [
        "..............................."
       ]
      },
      {
       "output_type": "stream",
       "stream": "stdout",
       "text": [
        "....................\n",
        "ucla..."
       ]
      },
      {
       "output_type": "stream",
       "stream": "stdout",
       "text": [
        ".............................."
       ]
      },
      {
       "output_type": "stream",
       "stream": "stdout",
       "text": [
        "..........................."
       ]
      },
      {
       "output_type": "stream",
       "stream": "stdout",
       "text": [
        "...................................."
       ]
      },
      {
       "output_type": "stream",
       "stream": "stdout",
       "text": [
        ".................................."
       ]
      },
      {
       "output_type": "stream",
       "stream": "stdout",
       "text": [
        "..................................."
       ]
      },
      {
       "output_type": "stream",
       "stream": "stdout",
       "text": [
        ".............................."
       ]
      },
      {
       "output_type": "stream",
       "stream": "stdout",
       "text": [
        "\n",
        "ucol.."
       ]
      },
      {
       "output_type": "stream",
       "stream": "stdout",
       "text": [
        "................................."
       ]
      },
      {
       "output_type": "stream",
       "stream": "stdout",
       "text": [
        "................................."
       ]
      },
      {
       "output_type": "stream",
       "stream": "stdout",
       "text": [
        "........................................."
       ]
      },
      {
       "output_type": "stream",
       "stream": "stdout",
       "text": [
        "..............................."
       ]
      },
      {
       "output_type": "stream",
       "stream": "stdout",
       "text": [
        "........................"
       ]
      },
      {
       "output_type": "stream",
       "stream": "stdout",
       "text": [
        "...."
       ]
      },
      {
       "output_type": "stream",
       "stream": "stdout",
       "text": [
        "...."
       ]
      },
      {
       "output_type": "stream",
       "stream": "stdout",
       "text": [
        "........\n",
        "ukc.."
       ]
      },
      {
       "output_type": "stream",
       "stream": "stdout",
       "text": [
        "................................."
       ]
      },
      {
       "output_type": "stream",
       "stream": "stdout",
       "text": [
        "....................................."
       ]
      },
      {
       "output_type": "stream",
       "stream": "stdout",
       "text": [
        "..................................."
       ]
      },
      {
       "output_type": "stream",
       "stream": "stdout",
       "text": [
        "......................................"
       ]
      },
      {
       "output_type": "stream",
       "stream": "stdout",
       "text": [
        "............\n",
        "umann.."
       ]
      },
      {
       "output_type": "stream",
       "stream": "stdout",
       "text": [
        "................................."
       ]
      },
      {
       "output_type": "stream",
       "stream": "stdout",
       "text": [
        "....................................."
       ]
      },
      {
       "output_type": "stream",
       "stream": "stdout",
       "text": [
        "...................................."
       ]
      },
      {
       "output_type": "stream",
       "stream": "stdout",
       "text": [
        "............................"
       ]
      },
      {
       "output_type": "stream",
       "stream": "stdout",
       "text": [
        ".................................."
       ]
      },
      {
       "output_type": "stream",
       "stream": "stdout",
       "text": [
        ".............\n",
        "umont.................."
       ]
      },
      {
       "output_type": "stream",
       "stream": "stdout",
       "text": [
        "................................"
       ]
      },
      {
       "output_type": "stream",
       "stream": "stdout",
       "text": [
        "..................................."
       ]
      },
      {
       "output_type": "stream",
       "stream": "stdout",
       "text": [
        "................................."
       ]
      },
      {
       "output_type": "stream",
       "stream": "stdout",
       "text": [
        "..............................."
       ]
      },
      {
       "output_type": "stream",
       "stream": "stdout",
       "text": [
        "................................"
       ]
      },
      {
       "output_type": "stream",
       "stream": "stdout",
       "text": [
        "....\n",
        "unij.."
       ]
      },
      {
       "output_type": "stream",
       "stream": "stdout",
       "text": [
        "..................................."
       ]
      },
      {
       "output_type": "stream",
       "stream": "stdout",
       "text": [
        "..................................."
       ]
      },
      {
       "output_type": "stream",
       "stream": "stdout",
       "text": [
        "..................................."
       ]
      },
      {
       "output_type": "stream",
       "stream": "stdout",
       "text": [
        "....................................."
       ]
      },
      {
       "output_type": "stream",
       "stream": "stdout",
       "text": [
        "..................................."
       ]
      },
      {
       "output_type": "stream",
       "stream": "stdout",
       "text": [
        "........\n",
        "ustutt.."
       ]
      },
      {
       "output_type": "stream",
       "stream": "stdout",
       "text": [
        ".............................."
       ]
      },
      {
       "output_type": "stream",
       "stream": "stdout",
       "text": [
        "......................................"
       ]
      },
      {
       "output_type": "stream",
       "stream": "stdout",
       "text": [
        "................................."
       ]
      },
      {
       "output_type": "stream",
       "stream": "stdout",
       "text": [
        "......................................"
       ]
      },
      {
       "output_type": "stream",
       "stream": "stdout",
       "text": [
        "................................."
       ]
      },
      {
       "output_type": "stream",
       "stream": "stdout",
       "text": [
        "........................\n",
        "wustl."
       ]
      },
      {
       "output_type": "stream",
       "stream": "stdout",
       "text": [
        "...................................."
       ]
      },
      {
       "output_type": "stream",
       "stream": "stdout",
       "text": [
        "..................................."
       ]
      },
      {
       "output_type": "stream",
       "stream": "stdout",
       "text": [
        "...................................."
       ]
      },
      {
       "output_type": "stream",
       "stream": "stdout",
       "text": [
        "......................................."
       ]
      },
      {
       "output_type": "stream",
       "stream": "stdout",
       "text": [
        ".............................."
       ]
      },
      {
       "output_type": "stream",
       "stream": "stdout",
       "text": [
        "..............."
       ]
      }
     ],
     "prompt_number": 89
    },
    {
     "cell_type": "heading",
     "level": 3,
     "metadata": {},
     "source": [
      "Step 2: Summarize the basic properties"
     ]
    },
    {
     "cell_type": "markdown",
     "metadata": {},
     "source": [
      "First I will verify some things I noticed by running `ls` on the data directory."
     ]
    },
    {
     "cell_type": "code",
     "collapsed": false,
     "input": [
      "print \"Number of runs: %d\" % len(runs.keys())"
     ],
     "language": "python",
     "metadata": {},
     "outputs": [
      {
       "output_type": "stream",
       "stream": "stdout",
       "text": [
        "Number of runs: 6\n"
       ]
      }
     ],
     "prompt_number": 90
    },
    {
     "cell_type": "markdown",
     "metadata": {},
     "source": [
      "These measurements appear to have been executed in six batches, possibly over a long period of time. (The time duration of the study is not analyzed here.)"
     ]
    },
    {
     "cell_type": "code",
     "collapsed": false,
     "input": [
      "for run in sorted(runs.keys()):\n",
      "    print \"Number of source networks for %s: %d\" % (run, len(runs[run].keys()))"
     ],
     "language": "python",
     "metadata": {},
     "outputs": [
      {
       "output_type": "stream",
       "stream": "stdout",
       "text": [
        "Number of source networks for routes.run1: 38\n",
        "Number of source networks for routes.run2: 32\n",
        "Number of source networks for routes.run3: 32\n",
        "Number of source networks for routes.run4: 33\n",
        "Number of source networks for routes.run5: 33\n",
        "Number of source networks for routes.run6: 33\n"
       ]
      }
     ],
     "prompt_number": 91
    },
    {
     "cell_type": "markdown",
     "metadata": {},
     "source": [
      "The above shows that within each run, there are six directories, which I have interpreted as representing the source \"network\" from whence the traceroute originated. This requires two explanations: The first explanation is that I know that it is the source based on the fact that within each of these source directories, there are files whose names correspond to the destination listed in the traceroute in those files. For example:"
     ]
    },
    {
     "cell_type": "code",
     "collapsed": false,
     "input": [
      "print traceroutes[0].filename\n",
      "print traceroutes[0].raw"
     ],
     "language": "python",
     "metadata": {},
     "outputs": [
      {
       "output_type": "stream",
       "stream": "stdout",
       "text": [
        "nrao.816907595.2\n",
        "\n",
        "traceroute to fits.cv.nrao.edu (192.33.115.8), 30 hops max, 40 byte packets\n",
        "1  131.174.124.14  2 ms  2 ms  2 ms\n",
        "2  131.174.4.15  3 ms  3 ms  3 ms\n",
        "3  145.41.33.129  3 ms  3 ms  4 ms\n",
        "4  145.41.1.65  10 ms  13 ms  7 ms\n",
        "5  145.41.6.67  8 ms  10 ms  8 ms\n",
        "6  145.41.0.14  240 ms  243 ms  235 ms\n",
        "7  204.149.4.5  179 ms  185 ms  165 ms\n",
        "8  140.222.56.2  144 ms  112 ms  124 ms\n",
        "9  140.222.147.1  180 ms *  235 ms\n",
        "10  192.41.177.180  232 ms  205 ms  201 ms\n",
        "11  204.70.74.117  259 ms  265 ms  318 ms\n",
        "12  204.70.3.1  216 ms  241 ms  184 ms\n",
        "13  204.70.2.2  163 ms  117 ms  136 ms\n",
        "14  204.70.56.6  150 ms  110 ms  139 ms\n",
        "15  128.167.7.8  165 ms  179 ms  173 ms\n",
        "16  128.167.3.2  198 ms  226 ms *\n",
        "17  192.221.3.18  323 ms  340 ms  324 ms\n",
        "18  137.54.200.10  358 ms * *\n",
        "19  128.143.226.2  304 ms *  271 ms\n",
        "20  128.143.220.67  289 ms  256 ms  310 ms\n",
        "21  * * 192.33.115.8  328 ms\n"
       ]
      }
     ],
     "prompt_number": 92
    },
    {
     "cell_type": "markdown",
     "metadata": {},
     "source": [
      "Note the match between the file name and the destination hostname above.\n",
      "\n",
      "The second explanation is that I'm calling these \"networks\" rather than \"hosts\" because I have noticed in the course of debugging the parser that the destination IP address and IP hostname is not consistent across \"destination\" for some reason. I imagine the source also suffers from the same problem. Thus, I've loosely termed the sources and destinations as networks to reflect the shifting hostnames and IP addresses involved in the measurement over time and the fact that I'm not sure if these are always executed from the same pairs of hosts. Perhaps a better term to use would have been \"institutions\" as the sources and destinations are clearly academic institutions participating in this study."
     ]
    },
    {
     "cell_type": "code",
     "collapsed": false,
     "input": [
      "print \"Number of traceroutes: %d\" % len(traceroutes)"
     ],
     "language": "python",
     "metadata": {},
     "outputs": [
      {
       "output_type": "stream",
       "stream": "stdout",
       "text": [
        "Number of traceroutes: 28162\n"
       ]
      }
     ],
     "prompt_number": 93
    },
    {
     "cell_type": "markdown",
     "metadata": {},
     "source": [
      "The above shows that I extracted approximately 28K traceroutes. At first I thought I had made an error because this matched the number of files we were told were in the data set, but then I realized there is only one traceroute output per file, so this is correct. Next I want to try to better understand how these traceroute measurements were conducted by looking at the soure and destinations."
     ]
    },
    {
     "cell_type": "code",
     "collapsed": false,
     "input": [
      "pairs = []\n",
      "for tr in traceroutes:\n",
      "    pairs.append((tr.srcnet, tr.dstnet))\n",
      "unordered_pairs = [tuple(sorted(t)) for t in pairs]\n",
      "\n",
      "print \"Number of unique (source, destination) pairs: %d\" % len(set(pairs))\n",
      "print \"Number of unique unordered (source, destination) pairs: %d\" % len(set(unordered_pairs))\n",
      "\n",
      "srcnets = set()\n",
      "for tr in traceroutes:\n",
      "    srcnets.add(tr.srcnet)\n",
      "dstnets = set()\n",
      "for tr in traceroutes:\n",
      "    dstnets.add(tr.dstnet)\n",
      "possible_pairs = []\n",
      "for src in srcnets:\n",
      "    for dst in dstnets:\n",
      "        if src == dst:\n",
      "            continue\n",
      "        possible_pairs.append((src, dst))\n",
      "possible_unordered_pairs = [tuple(sorted(t)) for t in possible_pairs]\n",
      "\n",
      "print\n",
      "print \"Number of sources: %d\" % len(srcnets)\n",
      "print \"Number of destinations: %d\" % len(dstnets)\n",
      "print\n",
      "print \"Number of possible unique (source, destination) pairs: %d\" % len(set(possible_pairs))\n",
      "print \"Number of possible unique unordered (source, destination) pairs: %d\" % len(set(unordered_pairs))"
     ],
     "language": "python",
     "metadata": {},
     "outputs": [
      {
       "output_type": "stream",
       "stream": "stdout",
       "text": [
        "Number of unique (source, destination) pairs: 1056\n",
        "Number of unique unordered (source, destination) pairs: 528\n",
        "\n"
       ]
      },
      {
       "output_type": "stream",
       "stream": "stdout",
       "text": [
        "Number of sources: 33\n",
        "Number of destinations: 33\n",
        "\n",
        "Number of possible unique (source, destination) pairs: 1056\n",
        "Number of possible unique unordered (source, destination) pairs: 528\n"
       ]
      }
     ],
     "prompt_number": 94
    },
    {
     "cell_type": "markdown",
     "metadata": {},
     "source": [
      "The above shows that although there are approximately 28K traceroute measurements, there are only about 528 unique unordered source network, destination network pairs. I verified that the number of unique pairs present is equal to the number of unique possible pairs -- this means that no possible pairs in the study were left out. Furthermore, the set of sources and the set of destinations are the same."
     ]
    },
    {
     "cell_type": "code",
     "collapsed": false,
     "input": [
      "print srcnets == dstnets"
     ],
     "language": "python",
     "metadata": {},
     "outputs": [
      {
       "output_type": "stream",
       "stream": "stdout",
       "text": [
        "True\n"
       ]
      }
     ],
     "prompt_number": 95
    },
    {
     "cell_type": "markdown",
     "metadata": {},
     "source": [
      "I next wanted to understand more about the difference between destination \"network\" and destination hostname and destination IP. To do this I printed out the list of IP addresses (and hostnames, if given and different from IP) associated with each destination."
     ]
    },
    {
     "cell_type": "code",
     "collapsed": false,
     "input": [
      "dst_ipaddrs = []\n",
      "for tr in traceroutes:\n",
      "    dst_ipaddrs.append(tr.dst_ipaddr)\n",
      "dst_hostnames = []\n",
      "for tr in traceroutes:\n",
      "    dst_hostnames.append(tr.dst_hostname)\n",
      "print \"Number of destination IP addresses: %d\" % len(set(dst_ipaddrs))\n",
      "print \"Number of destination hostnames: %d\" % len(set(dst_hostnames))\n",
      "\n",
      "ipaddrs_per_destnet = collections.defaultdict(list)\n",
      "for tr in traceroutes:\n",
      "    if tr.errflag == ErrorFlag.NOERR_OK:\n",
      "        ipaddrs_per_destnet[tr.dstnet].append((tr.dst_hostname, tr.dst_ipaddr))\n",
      "\n",
      "for (dstnet, hosts) in ipaddrs_per_destnet.iteritems():\n",
      "    hoststrs = \"\"\n",
      "    for (name, ip) in set(hosts):\n",
      "        if name == ip:\n",
      "            hoststrs = \", \".join([hoststrs, ip]) if not hoststrs == \"\" else ip\n",
      "        else:\n",
      "            ip_and_host = ip + \" (\" + name + \")\"\n",
      "            hoststrs = \", \".join([hoststrs, ip_and_host]) if not hoststrs == \"\" else ip_and_host\n",
      "    print \"%s: %s\" % (dstnet, hoststrs)"
     ],
     "language": "python",
     "metadata": {},
     "outputs": [
      {
       "output_type": "stream",
       "stream": "stdout",
       "text": [
        "Number of destination IP addresses: 41\n",
        "Number of destination hostnames: 82\n",
        "unij: 131.174.124.32 (rood.sci.kun.nl), 131.174.124.32"
       ]
      },
      {
       "output_type": "stream",
       "stream": "stdout",
       "text": [
        "\n",
        "sandia: 146.246.238.52, 146.246.238.52 (coleman.ca.sandia.gov)\n",
        "umann: 134.155.48.125 (eratosthenes.informatik.uni-mannheim.de), 134.155.48.125\n",
        "ucla: 131.179.96.125 (barbican.cs.ucla.edu), 131.179.96.125\n",
        "harv: 140.247.60.65 (pinot.harvard.edu), 140.247.60.65 (pinot.eecs.harvard.edu), 140.247.60.65\n",
        "ucl: 128.16.6.13 (boom.cs.ucl.ac.uk), 128.16.64.13, 128.16.6.13, 128.16.64.13 (boom.cs.ucl.ac.uk)\n",
        "lbl: 128.3.112.47 (largo.lbl.gov), 128.3.112.47\n",
        "wustl: 128.252.166.57, 128.252.166.57 (tango.cs.wustl.edu)\n",
        "adv: 199.222.103.10 (betelgeuse.advanced.org), 199.222.103.10\n",
        "austr2: 134.148.96.116 (lily.newcastle.edu.au), 134.148.96.116\n",
        "panix: 198.7.0.40 (i4004.nyc.access.net), 198.7.0.40\n",
        "pubnix: 199.170.212.130 (pub01.va.pubnix.com), 199.170.213.130 (pub01.va.pubnix.com), 199.170.213.130, 199.170.212.130\n",
        "sdsc: 132.249.22.57, 132.249.22.57 (rintrah.sdsc.edu), 198.17.46.57, 198.17.46.57 (rintrah.sdsc.edu), 198.17.46.57 (rintrah-fddi.sdsc.edu)\n",
        "oce: 134.188.1.199 (saporro.oce.nl), 134.188.1.199\n",
        "mid: 198.247.231.16 (shocker.mid.net), 198.247.231.16\n",
        "lbli: 131.243.6.18 (pig.ee.lbl.gov), 131.243.6.18\n",
        "bsdi: 205.230.224.1 (bsdi.bsdi.com), 205.230.224.1\n",
        "mit: 18.26.0.122 (mercury.lcs.mit.edu), 18.26.0.122\n",
        "umont: 132.204.34.70 (manouane.iro.umontreal.ca), 132.204.34.70\n",
        "austr: 128.250.1.70 (hok.cs.mu.oz.au), 128.250.1.70, 128.250.1.9, 128.250.1.6, 128.250.1.9 (hok.cs.mu.oz.au), 128.250.1.6 (mullala.cs.mu.oz.au)\n",
        "connix: 198.69.10.4, 198.69.10.4 (comet.connix.com)\n",
        "bnl: 130.199.90.96 (frog.rhic.bnl.gov), 130.199.90.96\n",
        "inria: 138.96.24.81 (tom.inria.fr), 138.96.24.81\n",
        "sintef2: 129.241.1.88, 129.241.1.88 (stork.runit.sintef.no)\n",
        "rain: 199.2.96.59 (chia.rain.net), 199.2.96.59\n",
        "sintef1: 129.241.100.249, 129.241.100.249 (hp7ux10.runit.sintef.no)\n",
        "ustutt: 129.69.210.20 (geige.informatik.uni-stuttgart.de), 129.69.210.20\n",
        "ukc: 129.12.3.53, 129.12.3.53 (rowan.ukc.ac.uk)\n",
        "sri: 128.18.25.200 (lion.sdd.sri.com), 128.18.25.200\n",
        "nrao: 192.33.115.8 (fits.cv.nrao.edu), 192.33.115.8\n",
        "near: 198.114.157.114, 199.94.220.184 (all-purpose-gunk.near.net), 199.94.220.184, 198.114.157.114 (all-purpose-gunk.near.net)\n",
        "ncar: 192.52.106.7 (mbone.ucar.edu), 128.117.64.29 (mbone.ucar.edu), 128.117.64.29, 192.52.106.7\n",
        "ucol: 128.138.241.36, 128.138.241.36 (foobar.cs.colorado.edu)\n"
       ]
      }
     ],
     "prompt_number": 96
    },
    {
     "cell_type": "markdown",
     "metadata": {},
     "source": [
      "The above shows that:\n",
      "1. Most destinations have only one associated IP address, but sometimes the hostname is given and sometimes it's not (e.g., `unij` and `lbli`). This is the simple case and the good case.\n",
      "2. Some destinations have a hostname that resolves to different IP addressses at different times (e.g., `austr` and `ncar`).\n",
      "3. Some destinations have different hostnames at different times that resolve to the same IP address (e.g., `sdsc` and `harv`).\n",
      "\n",
      "This complicates my understanding of what constitutes a source and what constitutes a destination. Ideally, I would have done this study while keeping the physical host, IP address, and hostname constant for each of the source and destination pairs. The hostname might not matter than much but the change in IP address could make routes look different between pairs when really the only difference is the final IP address.\n",
      "\n",
      "Taking IP address to be the true identifier of a destination, I counted the number of \"true\" source and destination pairs. This ignores the fact that source IP addresses might have changed over the course of the study too."
     ]
    },
    {
     "cell_type": "code",
     "collapsed": false,
     "input": [
      "true_pairs = set()\n",
      "for tr in traceroutes:\n",
      "    pair = tuple(sorted([tr.srcnet, tr.dst_ipaddr]))\n",
      "    true_pairs.add(pair)\n",
      "    \n",
      "print \"Number of unique unordered (source, destination) pairs \\\n",
      "accounting for destination hostname and IP address changes: %d\" % len(true_pairs)"
     ],
     "language": "python",
     "metadata": {},
     "outputs": [
      {
       "output_type": "stream",
       "stream": "stdout",
       "text": [
        "Number of unique unordered (source, destination) pairs accounting for destination hostname and IP address changes: 1279\n"
       ]
      }
     ],
     "prompt_number": 97
    },
    {
     "cell_type": "markdown",
     "metadata": {},
     "source": [
      "There are more unique pairs of IP addresses than there are of participating source and destination institutions.\n",
      "\n",
      "Next, I noticed while debugging my traceroute data parser that there are some errors in the data. Let's count some of these to see how extensive they are."
     ]
    },
    {
     "cell_type": "code",
     "collapsed": false,
     "input": [
      "errs = collections.defaultdict(int)\n",
      "for tr in traceroutes:\n",
      "    errs[tr.errflag] += 1\n",
      "print \"{:16} {}\".format(\"Error Type\", \"Count\")\n",
      "for errmsg, cnt in errs.iteritems():\n",
      "    print \"{:16} {}\".format(errmsg, cnt)"
     ],
     "language": "python",
     "metadata": {},
     "outputs": [
      {
       "output_type": "stream",
       "stream": "stdout",
       "text": [
        "Error Type       Count\n",
        "LIB_NOT_FOUND    1\n",
        "UNKNOWN_HOST     77\n",
        "NOERR_OK         28074\n",
        "COULDNT_EXEC     10\n"
       ]
      }
     ],
     "prompt_number": 98
    },
    {
     "cell_type": "markdown",
     "metadata": {},
     "source": [
      "This shows that the errors aren't very extensive.\n",
      "\n",
      "Next let's try to understand something about the traceroute measurements themselves for the non-errored traceroutes."
     ]
    },
    {
     "cell_type": "code",
     "collapsed": false,
     "input": [
      "nhops = []\n",
      "for tr in traceroutes:\n",
      "    if tr.errflag == ErrorFlag.NOERR_OK:\n",
      "        nhops.append(len(tr.hops))\n",
      "\n",
      "print \"Median number of hops per traceroute: %d\" % np.median(nhops)\n",
      "nhops.sort()\n",
      "ranks = range(len(nhops))\n",
      "plt.plot(ranks, nhops)\n",
      "plt.xlim(xmax=max(ranks))\n",
      "plt.ylabel(\"Number of Hops\", fontsize=16)\n",
      "_ = plt.xlabel(\"Rank\", fontsize=16)"
     ],
     "language": "python",
     "metadata": {},
     "outputs": [
      {
       "output_type": "stream",
       "stream": "stdout",
       "text": [
        "Median number of hops per traceroute: 17\n"
       ]
      },
      {
       "metadata": {},
       "output_type": "display_data",
       "png": "[encoded data removed]",
       "text": [
        "<matplotlib.figure.Figure at 0x13294ead0>"
       ]
      }
     ],
     "prompt_number": 99
    },
    {
     "cell_type": "markdown",
     "metadata": {},
     "source": [
      "There are about 17 hops for the typical traceroute measurement. But this is not the same as the number of hops per pair, as there are multiple measurements per pair and we don't even know if the same number of measurements were executed per pair. More on this later. \n",
      "\n",
      "First let's define a \"perfect\" traceroute as one in which all the probes for all the hops succeeded -- this is not a good definition as we will see at the end, but let's use it for now."
     ]
    },
    {
     "cell_type": "code",
     "collapsed": false,
     "input": [
      "def perfect_hop(hop):\n",
      "    for probe in hop.probes:\n",
      "        if not probe.response or probe.note is not None:\n",
      "            return False\n",
      "    return True\n",
      "\n",
      "def perfect_traceroute(traceroute):\n",
      "    for hop in traceroute.hops:\n",
      "        if not perfect_hop(hop):\n",
      "            return False\n",
      "    return True \n",
      "\n",
      "nperfect = 0\n",
      "perfectnhops = []\n",
      "for tr in traceroutes:\n",
      "    if perfect_traceroute(tr):\n",
      "        perfectnhops.append(len(tr.hops))\n",
      "        nperfect += 1\n",
      "print \"Number of error-free traceroutes: %d\" % nperfect\n",
      "print \"Median number of hops per traceroute: %d\" % np.median(perfectnhops)\n",
      "perfectnhops.sort()\n",
      "ranks = range(len(perfectnhops))\n",
      "plt.plot(ranks, perfectnhops)\n",
      "plt.xlim(xmax=max(ranks))\n",
      "plt.ylabel(\"Number of Hops (Error-Free)\", fontsize=16)\n",
      "_ = plt.xlabel(\"Rank\", fontsize=16)"
     ],
     "language": "python",
     "metadata": {},
     "outputs": [
      {
       "output_type": "stream",
       "stream": "stdout",
       "text": [
        "Number of error-free traceroutes: 10519\n",
        "Median number of hops per traceroute: 14\n"
       ]
      },
      {
       "metadata": {},
       "output_type": "display_data",
       "png": "[encoded data removed]",
       "text": [
        "<matplotlib.figure.Figure at 0x1209d6310>"
       ]
      }
     ],
     "prompt_number": 100
    },
    {
     "cell_type": "markdown",
     "metadata": {},
     "source": [
      "Less than half of the traceroutes had entirely successful hop probes and the number of hops for these is a little less than the full set of traceroutes. The graph shows that by limiting ourselves to \"perfect\" traceroutes we eliminated most of the traceroutes that maxed out the number of hops and failed that way (30 hops).\n",
      "\n",
      "As I examined the number of hops per traceroute I realized that I need to check how many traceroutes were run per pair. The graphs below show the number of traceroutes run per pair and the number of perfect traceroutes per pair. Weirdly, the number is not the same per pair. I don't know why this is and I don't like it. It seems like they should have tried to get the same number of measurements per pair."
     ]
    },
    {
     "cell_type": "code",
     "collapsed": false,
     "input": [
      "tr_by_pair = collections.defaultdict(list)\n",
      "for tr in traceroutes:\n",
      "    pair = tuple(sorted([tr.srcnet, tr.dstnet]))\n",
      "    tr_by_pair[pair].append(tr)\n",
      "tr_by_pair_static = sorted(tr_by_pair.items(), key=lambda x: len(x[1]))\n",
      "ind = np.arange(len(tr_by_pair_static))\n",
      "plt.bar(ind, [len(x[1]) for x in tr_by_pair_static])\n",
      "plt.xlim(xmax=max(ind))\n",
      "plt.ylabel(\"Number of Traceroutes\", fontsize=16)\n",
      "_ = plt.xlabel(\"Pair\", fontsize=16)"
     ],
     "language": "python",
     "metadata": {},
     "outputs": [
      {
       "metadata": {},
       "output_type": "display_data",
       "png": "[encoded data removed]",
       "text": [
        "<matplotlib.figure.Figure at 0x120cf9050>"
       ]
      }
     ],
     "prompt_number": 101
    },
    {
     "cell_type": "code",
     "collapsed": false,
     "input": [
      "tr_by_pair = collections.defaultdict(list)\n",
      "for tr in traceroutes:\n",
      "    if tr.errflag == ErrorFlag.NOERR_OK and perfect_traceroute(tr):\n",
      "        pair = tuple(sorted([tr.srcnet, tr.dstnet]))\n",
      "        tr_by_pair[pair].append(tr)\n",
      "tr_by_pair_static = sorted(tr_by_pair.items(), key=lambda x: len(x[1]))\n",
      "ind = np.arange(len(tr_by_pair_static))\n",
      "plt.bar(ind, [len(x[1]) for x in tr_by_pair_static])\n",
      "plt.xlim(xmax=max(ind))\n",
      "plt.ylabel(\"Number of Traceroutes (Error-Free)\", fontsize=16)\n",
      "_ = plt.xlabel(\"Pair\", fontsize=16)"
     ],
     "language": "python",
     "metadata": {},
     "outputs": [
      {
       "metadata": {},
       "output_type": "display_data",
       "png": "[encoded data removed]",
       "text": [
        "<matplotlib.figure.Figure at 0x1260d7910>"
       ]
      }
     ],
     "prompt_number": 102
    },
    {
     "cell_type": "markdown",
     "metadata": {},
     "source": [
      "Now that we have seen that the number of traceroute measurements per pair is not even across pairs, let's check the median number of hops per pair and the median number of those medians to see if it's comparable."
     ]
    },
    {
     "cell_type": "code",
     "collapsed": false,
     "input": [
      "nhops_by_pair = collections.defaultdict(list)\n",
      "for tr in traceroutes:\n",
      "    pair = tuple(sorted([tr.srcnet, tr.dstnet]))\n",
      "    nhops_by_pair[pair].append(len(tr.hops))\n",
      "nhops_by_pair_static = sorted(nhops_by_pair.items(), key=lambda x: np.median(x[1]))\n",
      "ind = np.arange(len(nhops_by_pair_static))\n",
      "median_hops_by_pair = [np.median(x[1]) for x in nhops_by_pair_static]\n",
      "print \"Median of median number of hops by pair: %d\" % np.median(median_hops_by_pair)\n",
      "plt.bar(ind, median_hops_by_pair)\n",
      "plt.xlim(xmax=max(ind))\n",
      "plt.ylabel(\"Number of Hops\", fontsize=16)\n",
      "_ = plt.xlabel(\"Pair\", fontsize=16)"
     ],
     "language": "python",
     "metadata": {},
     "outputs": [
      {
       "output_type": "stream",
       "stream": "stdout",
       "text": [
        "Median of median number of hops by pair: 16\n"
       ]
      },
      {
       "metadata": {},
       "output_type": "display_data",
       "png": "[encoded data removed]",
       "text": [
        "<matplotlib.figure.Figure at 0x163df7f90>"
       ]
      }
     ],
     "prompt_number": 103
    },
    {
     "cell_type": "markdown",
     "metadata": {},
     "source": [
      "Somehow it is. This means that the number of hops per any two institutions in the study is usually about 16 hops.\n",
      "\n",
      "The route between any two places on the Internet is not fixed. Let's see how many different routes there are for each pair. "
     ]
    },
    {
     "cell_type": "code",
     "collapsed": false,
     "input": [
      "def extract_route(traceroute):\n",
      "    route = []\n",
      "    for hop in traceroute.hops:\n",
      "        if hop.ipaddr is not None:\n",
      "            route.append(hop.ipaddr)\n",
      "        else:\n",
      "            route.append(\"*\")\n",
      "    return \" \".join(route)\n",
      "\n",
      "routes_by_pair = collections.defaultdict(set)\n",
      "for tr in traceroutes:\n",
      "    if tr.errflag == ErrorFlag.NOERR_OK and perfect_traceroute(tr):\n",
      "        pair = tuple(sorted([tr.srcnet, tr.dst_ipaddr]))\n",
      "        routes_by_pair[pair].add(extract_route(tr))\n",
      "\n",
      "print \"Median number of routes per pair: %f\" % np.median([len(v) for (k,v) in routes_by_pair.items()])\n",
      "\n",
      "routes_by_pair_static = sorted(routes_by_pair.items(), key=lambda x: len(x[1]))\n",
      "ind = np.arange(len(routes_by_pair_static))\n",
      "plt.bar(ind, [len(x[1]) for x in routes_by_pair_static])\n",
      "plt.xlim(xmax=max(ind))\n",
      "plt.ylabel(\"Number of Routes per Pair (Error-Free)\", fontsize=16)\n",
      "_ = plt.xlabel(\"Pair\", fontsize=16)"
     ],
     "language": "python",
     "metadata": {},
     "outputs": [
      {
       "output_type": "stream",
       "stream": "stdout",
       "text": [
        "Median number of routes per pair: 2.000000\n"
       ]
      },
      {
       "metadata": {},
       "output_type": "display_data",
       "png": "[encoded data removed]",
       "text": [
        "<matplotlib.figure.Figure at 0x1207eaed0>"
       ]
      }
     ],
     "prompt_number": 104
    },
    {
     "cell_type": "markdown",
     "metadata": {},
     "source": [
      "This shows that there are about two different routes between each pair of institutions measured in this data set. It would be interesting to look into both the timing of these measurements as well as the performance, but I don't have time for that.\n",
      "\n",
      "This ends the secion on the basic properties of the data set."
     ]
    },
    {
     "cell_type": "heading",
     "level": 3,
     "metadata": {},
     "source": [
      "Step 3: Characterize different types of traceroute measurements"
     ]
    },
    {
     "cell_type": "markdown",
     "metadata": {},
     "source": [
      "We already defined one type of traceroute measurement -- the \"perfect\" measurement in which no probes failed. Below we give an exampe of this type of measurement."
     ]
    },
    {
     "cell_type": "code",
     "collapsed": false,
     "input": [
      "count = 0\n",
      "for tr in traceroutes:\n",
      "    if tr.errflag == ErrorFlag.NOERR_OK and perfect_traceroute(tr):\n",
      "        count += 1\n",
      "print \"Number of 'perfect' traceroute measurements: %d\" % count\n",
      "        \n",
      "for tr in traceroutes:\n",
      "    if tr.errflag == ErrorFlag.NOERR_OK and perfect_traceroute(tr):\n",
      "        print tr.raw\n",
      "        break"
     ],
     "language": "python",
     "metadata": {},
     "outputs": [
      {
       "output_type": "stream",
       "stream": "stdout",
       "text": [
        "Number of 'perfect' traceroute measurements: 10431\n",
        "\n",
        "traceroute to manouane.iro.umontreal.ca (132.204.34.70), 30 hops max, 40 byte packets\n",
        "1  131.174.124.14  3 ms  2 ms  2 ms\n",
        "2  131.174.4.15  3 ms  2 ms  3 ms\n",
        "3  145.41.33.129  4 ms  3 ms  3 ms\n",
        "4  145.41.1.65  16 ms  11 ms  12 ms\n",
        "5  145.41.6.67  8 ms  7 ms  8 ms\n",
        "6  145.41.0.14  233 ms  148 ms  139 ms\n",
        "7  204.149.4.5  123 ms  122 ms  120 ms\n",
        "8  140.222.218.1  142 ms  108 ms  117 ms\n",
        "9  192.157.69.11  129 ms  133 ms  133 ms\n",
        "10  204.70.45.5  120 ms  143 ms  141 ms\n",
        "11  204.70.3.17  122 ms  172 ms  181 ms\n",
        "12  204.70.1.2  151 ms  125 ms  138 ms\n",
        "13  204.70.3.35  128 ms  156 ms  164 ms\n",
        "14  204.70.23.6  148 ms  175 ms  136 ms\n",
        "15  205.207.238.153  155 ms  213 ms  242 ms\n",
        "16  192.68.56.101  274 ms  271 ms  245 ms\n",
        "17  132.202.16.2  159 ms  134 ms  131 ms\n",
        "18  132.202.5.2  139 ms  138 ms  138 ms\n",
        "19  132.204.2.1  168 ms  135 ms  168 ms\n",
        "20  132.204.1.5  198 ms  199 ms  275 ms\n",
        "21  132.204.32.4  223 ms  168 ms  143 ms\n",
        "22  132.204.34.70  160 ms  140 ms  160 ms\n"
       ]
      }
     ],
     "prompt_number": 105
    },
    {
     "cell_type": "markdown",
     "metadata": {},
     "source": [
      "Another type of measurement is one in which some probes fail but no hops fail to respond completely. Below is an example of this."
     ]
    },
    {
     "cell_type": "code",
     "collapsed": false,
     "input": [
      "def silent(hop):\n",
      "    for probe in hop.probes:\n",
      "        if probe.response:\n",
      "            return False\n",
      "    return True\n",
      "\n",
      "def silent_hops(traceroute):\n",
      "    for hop in traceroute.hops:\n",
      "        if silent(hop):\n",
      "            return True\n",
      "    return False\n",
      "\n",
      "count = 0\n",
      "for tr in traceroutes[:500]:\n",
      "    if tr.errflag == ErrorFlag.NOERR_OK and not silent_hops(tr):\n",
      "        count += 1\n",
      "print \"Number of traceroutes with at least one failed probe on at least one hop: %d\" % count\n",
      "        \n",
      "for tr in traceroutes[:500]:\n",
      "    if tr.errflag == ErrorFlag.NOERR_OK and not silent_hops(tr):\n",
      "        print tr.raw\n",
      "        break"
     ],
     "language": "python",
     "metadata": {},
     "outputs": [
      {
       "output_type": "stream",
       "stream": "stdout",
       "text": [
        "Number of traceroutes with at least one failed probe on at least one hop: 428\n",
        "\n",
        "traceroute to fits.cv.nrao.edu (192.33.115.8), 30 hops max, 40 byte packets\n",
        "1  131.174.124.14  2 ms  2 ms  2 ms\n",
        "2  131.174.4.15  3 ms  3 ms  3 ms\n",
        "3  145.41.33.129  3 ms  3 ms  4 ms\n",
        "4  145.41.1.65  10 ms  13 ms  7 ms\n",
        "5  145.41.6.67  8 ms  10 ms  8 ms\n",
        "6  145.41.0.14  240 ms  243 ms  235 ms\n",
        "7  204.149.4.5  179 ms  185 ms  165 ms\n",
        "8  140.222.56.2  144 ms  112 ms  124 ms\n",
        "9  140.222.147.1  180 ms *  235 ms\n",
        "10  192.41.177.180  232 ms  205 ms  201 ms\n",
        "11  204.70.74.117  259 ms  265 ms  318 ms\n",
        "12  204.70.3.1  216 ms  241 ms  184 ms\n",
        "13  204.70.2.2  163 ms  117 ms  136 ms\n",
        "14  204.70.56.6  150 ms  110 ms  139 ms\n",
        "15  128.167.7.8  165 ms  179 ms  173 ms\n",
        "16  128.167.3.2  198 ms  226 ms *\n",
        "17  192.221.3.18  323 ms  340 ms  324 ms\n",
        "18  137.54.200.10  358 ms * *\n",
        "19  128.143.226.2  304 ms *  271 ms\n",
        "20  128.143.220.67  289 ms  256 ms  310 ms\n",
        "21  * * 192.33.115.8  328 ms\n"
       ]
      }
     ],
     "prompt_number": 106
    },
    {
     "cell_type": "markdown",
     "metadata": {},
     "source": [
      "Another type of measurement is one in which some hops fail to respond entirely. This could happen because the router at that hop is configured to silently drop ICMP packets. Below is an example of this."
     ]
    },
    {
     "cell_type": "code",
     "collapsed": false,
     "input": [
      "count = 0\n",
      "for tr in traceroutes:\n",
      "    if tr.errflag == ErrorFlag.NOERR_OK and silent_hops(tr):\n",
      "        count += 1\n",
      "print \"Number with silent hops: %d\" % count\n",
      "        \n",
      "for tr in traceroutes:\n",
      "    if tr.errflag == ErrorFlag.NOERR_OK and silent_hops(tr):\n",
      "        print tr.raw\n",
      "        break"
     ],
     "language": "python",
     "metadata": {},
     "outputs": [
      {
       "output_type": "stream",
       "stream": "stdout",
       "text": [
        "Number with silent hops: 2811\n",
        "\n",
        "traceroute to eratosthenes.informatik.uni-mannheim.de (134.155.48.125), 30 hops max, 40 byte packets\n",
        "1  131.174.124.14  2 ms  2 ms  2 ms\n",
        "2  131.174.4.15  3 ms  2 ms  2 ms\n",
        "3  145.41.33.129  4 ms  4 ms  3 ms\n",
        "4  145.41.1.65  12 ms  8 ms  8 ms\n",
        "5  145.41.6.70  10 ms  19 ms  18 ms\n",
        "6  194.72.26.17  13 ms  26 ms  18 ms\n",
        "7  194.72.24.1  12 ms  21 ms  25 ms\n",
        "8  194.72.24.133  38 ms  34 ms  25 ms\n",
        "9  194.72.24.242  54 ms  69 ms  107 ms\n",
        "10  194.72.24.205  138 ms  144 ms  169 ms\n",
        "11  * 194.72.24.194  170 ms *\n",
        "12  * * *\n",
        "13  * * 193.174.74.206  209 ms\n",
        "14  153.17.200.105  245 ms  240 ms  351 ms\n",
        "15  129.143.61.2  527 ms * *\n",
        "16  134.155.48.125  373 ms * *\n"
       ]
      }
     ],
     "prompt_number": 107
    },
    {
     "cell_type": "markdown",
     "metadata": {},
     "source": [
      "For some traceroute measurements, we get funny error messages from some of the probes, like `!H`, meaning \"host unreachable\". Below is an example of this."
     ]
    },
    {
     "cell_type": "code",
     "collapsed": false,
     "input": [
      "def funny_probes(hop):\n",
      "    for probe in hop.probes:\n",
      "        if probe.note is not None:\n",
      "            return True\n",
      "    return False\n",
      "\n",
      "def funny_hops(traceroute):\n",
      "    for hop in traceroute.hops:\n",
      "        if funny_probes(hop):\n",
      "            return True\n",
      "    return False\n",
      "\n",
      "count = 0\n",
      "for tr in traceroutes:\n",
      "    if tr.errflag == ErrorFlag.NOERR_OK and funny_hops(tr):\n",
      "        count += 1\n",
      "print \"Number of traceroute with probe errors or annotations: %d\" % count\n",
      "\n",
      "for tr in traceroutes:\n",
      "    if tr.errflag == ErrorFlag.NOERR_OK and funny_hops(tr):\n",
      "        print tr.raw \n",
      "        break"
     ],
     "language": "python",
     "metadata": {},
     "outputs": [
      {
       "output_type": "stream",
       "stream": "stdout",
       "text": [
        "Number of traceroute with probe errors or annotations: 3956\n",
        "\n",
        "traceroute to geige.informatik.uni-stuttgart.de (129.69.210.20), 30 hops max, 40 byte packets\n",
        "1  131.174.124.14  2 ms  2 ms  2 ms\n",
        "2  131.174.4.15  3 ms  3 ms  2 ms\n",
        "3  145.41.33.129  6 ms  10 ms  5 ms\n",
        "4  145.41.1.65  18 ms  10 ms  8 ms\n",
        "5  145.41.6.67  30 ms  9 ms  11 ms\n",
        "6  145.41.0.10  118 ms  139 ms  193 ms\n",
        "7  * 145.41.0.10  123 ms !H *\n",
        "8  145.41.0.14  166 ms !H * *\n",
        "9  * * 145.41.0.14  360 ms !H\n",
        "10  * 145.41.0.14  114 ms !H *\n",
        "11  * 145.41.0.14  139 ms !H *\n",
        "12  145.41.0.14  225 ms !H * *\n",
        "13  145.41.0.14  128 ms !H * *\n",
        "14  * * 145.41.0.14  111 ms !H\n",
        "15  * 145.41.0.14  165 ms !H *\n",
        "16  * 145.41.0.14  250 ms !H *\n",
        "17  145.41.0.14  179 ms !H *  125 ms !H\n"
       ]
      }
     ],
     "prompt_number": 108
    },
    {
     "cell_type": "markdown",
     "metadata": {},
     "source": [
      "Interestingly, this example shows another strange behavior, which is that the same IP address is responding for multiple hops. This could happen perhaps because some gateway is responding for the host in question.\n",
      "\n",
      "We can check for this situation explicitly and could count how many times this happened and check which pairs it happens to (but we won't due to lack of time)."
     ]
    },
    {
     "cell_type": "code",
     "collapsed": false,
     "input": [
      "def loop(traceroute):\n",
      "    route = extract_route(traceroute).split()\n",
      "    if len(route) > len(set(route)):\n",
      "        return True\n",
      "    return False\n",
      "\n",
      "count = 0\n",
      "for tr in traceroutes:\n",
      "    if tr.errflag == ErrorFlag.NOERR_OK and loop(tr):\n",
      "        count += 1\n",
      "print \"Number of traceroutes with a node appearing more than once on the route: %d\" % count\n",
      "        \n",
      "for tr in traceroutes:\n",
      "    if tr.errflag == ErrorFlag.NOERR_OK and loop(tr):\n",
      "        print tr.raw \n",
      "        break"
     ],
     "language": "python",
     "metadata": {},
     "outputs": [
      {
       "output_type": "stream",
       "stream": "stdout",
       "text": [
        "Number of traceroutes with a node appearing more than once on the route: 1971\n",
        "\n",
        "traceroute to geige.informatik.uni-stuttgart.de (129.69.210.20), 30 hops max, 40 byte packets\n",
        "1  131.174.124.14  2 ms  2 ms  2 ms\n",
        "2  131.174.4.15  3 ms  3 ms  2 ms\n",
        "3  145.41.33.129  6 ms  10 ms  5 ms\n",
        "4  145.41.1.65  18 ms  10 ms  8 ms\n",
        "5  145.41.6.67  30 ms  9 ms  11 ms\n",
        "6  145.41.0.10  118 ms  139 ms  193 ms\n",
        "7  * 145.41.0.10  123 ms !H *\n",
        "8  145.41.0.14  166 ms !H * *\n",
        "9  * * 145.41.0.14  360 ms !H\n",
        "10  * 145.41.0.14  114 ms !H *\n",
        "11  * 145.41.0.14  139 ms !H *\n",
        "12  145.41.0.14  225 ms !H * *\n",
        "13  145.41.0.14  128 ms !H * *\n",
        "14  * * 145.41.0.14  111 ms !H\n",
        "15  * 145.41.0.14  165 ms !H *\n",
        "16  * 145.41.0.14  250 ms !H *\n",
        "17  145.41.0.14  179 ms !H *  125 ms !H\n"
       ]
      }
     ],
     "prompt_number": 109
    },
    {
     "cell_type": "markdown",
     "metadata": {},
     "source": [
      "Does this strange behavior ever happen to \"perfect\" traceroutes? It turns out it does, as in the example below. This reveals even more strange behavior."
     ]
    },
    {
     "cell_type": "code",
     "collapsed": false,
     "input": [
      "for tr in traceroutes:\n",
      "    if tr.errflag == ErrorFlag.NOERR_OK and perfect_traceroute(tr) and loop(tr):\n",
      "        print tr.raw \n",
      "        break"
     ],
     "language": "python",
     "metadata": {},
     "outputs": [
      {
       "output_type": "stream",
       "stream": "stdout",
       "text": [
        "\n",
        "traceroute to saporro.oce.nl (134.188.1.199), 30 hops max, 40 byte packets\n",
        "1  131.174.124.14  2 ms  2 ms  2 ms\n",
        "2  131.174.4.15  3 ms  3 ms  2 ms\n",
        "3  145.41.33.129  4 ms  3 ms  3 ms\n",
        "4  145.41.1.65  9 ms  9 ms  10 ms\n",
        "5  192.87.4.27  8 ms  8 ms  10 ms\n",
        "6  193.78.240.36  12 ms  8 ms  9 ms\n",
        "7  193.78.240.33  9 ms  13 ms  12 ms\n",
        "8  193.78.240.36  9 ms  10 ms  9 ms\n",
        "9  193.78.240.33  18 ms  9 ms  8 ms\n",
        "10  193.78.240.36  11 ms  9 ms  8 ms\n",
        "11  193.78.240.33  10 ms  12 ms  9 ms\n",
        "12  193.78.240.36  15 ms  9 ms  10 ms\n",
        "13  193.78.240.33  10 ms  10 ms  12 ms\n",
        "14  193.78.240.36  10 ms  11 ms  10 ms\n",
        "15  193.78.240.33  17 ms  16 ms  10 ms\n",
        "16  193.78.240.36  10 ms  10 ms  10 ms\n",
        "17  193.78.240.33  12 ms  11 ms  10 ms\n",
        "18  193.78.240.36  10 ms  10 ms  12 ms\n",
        "19  193.78.240.33  11 ms  16 ms  15 ms\n",
        "20  193.78.240.36  12 ms  11 ms  10 ms\n",
        "21  193.78.240.33  13 ms  11 ms  14 ms\n",
        "22  193.78.240.36  11 ms  12 ms  11 ms\n",
        "23  193.78.240.33  14 ms  13 ms  11 ms\n",
        "24  193.78.240.36  13 ms  12 ms  20 ms\n",
        "25  193.78.240.33  20 ms  18 ms  12 ms\n",
        "26  193.78.240.36  17 ms  13 ms  12 ms\n",
        "27  193.78.240.33  19 ms  18 ms  13 ms\n",
        "28  193.78.240.36  17 ms  12 ms  13 ms\n",
        "29  193.78.240.33  24 ms  14 ms  13 ms\n",
        "30  193.78.240.36  13 ms  13 ms  13 ms\n"
       ]
      }
     ],
     "prompt_number": 110
    },
    {
     "cell_type": "markdown",
     "metadata": {},
     "source": [
      "This example shows that packets are being routed back and forth continually between two hosts, never to reach their final destination. This is interesting to capture. It makes one wonder how the Internet ever works at all."
     ]
    },
    {
     "cell_type": "heading",
     "level": 3,
     "metadata": {},
     "source": [
      "Part 4: Discussion questions"
     ]
    },
    {
     "cell_type": "markdown",
     "metadata": {},
     "source": [
      "**Describe how to detect or otherwise recognize some differing measurements.**\n",
      "\n",
      "The code above hopefully makes clear how I would detect some of these differing measurements. I can check for explicitly flagged errors by filtering. I can check for route weirdness by checking for loops or weird gateways (i.e., the same IP address on the route more than once or as at the end in a row). Some of the measurment types I found are:\n",
      "* failed entirely due to missing library or executable\n",
      "* failed entirely due to unfound host\n",
      "* succeeded perfectly\n",
      "* succeeded mostly, with some failed probes\n",
      "* succeeded mostly, with some silent hops (nodes that don't respond to ICMP or that are too overloaded to respond)\n",
      "* routes that loop forever\n",
      "* routes with gateways that respond to all ICMP messages for a host instead of the host\n",
      "\n",
      "These categories are not mutually exclusive and there are very likely other types of traceroute measurement classes. Also, I did not investigate in any way differences in hop latency in measurements, so if there are different types of traceroutes based on this, I did not reveal them here. I did very little investigation into differences based on hop length or into pairs of locations that have many different routes versus those that have one stable route over time.\n",
      "\n",
      "**Quantify how often they appear in the dataset, or explain why doing so would take quite a bit of work.**\n",
      "\n",
      "See above -- the counts of each are given.\n",
      "\n",
      "**Do you believe the difference represents an actual phenomenon pertaining to the route being measured, or instead a measurement artifact? Explain why.**\n",
      "\n",
      "Some of these I believe are actual phenomenona pertaining to the route being measured. For example, I think that loops and gateways that respond for multiple hops are real. The appearance of different routes between the same pair of locations that are actually just reflective of changes in the destination IP address might be an example of a measurement artifact.\n",
      "\n",
      "**Briefly sketch your approach to finding such different measurements. Does it leave you confident that you likely found (nearly) all of the different ways that the measurements manifest as something other than the \"typical\" pattern?**\n",
      "\n",
      "My approach to finding such measurements can be summarized as \"group by and count.\" I define attributes for each measurement reflecting every possible piece of text information in the traceroute output (like probe annotations, missing responses, maximum hop count, etc.) and then group by the possible values for such attributes and count the number of occurrences. Sometimes when I do this I inadvertently stumble across measurements that display strange properties I wasn't looking for, like loops or gateways that answer all the final hops. When I find these I basically define a meta-attribute that is \"True\" if the measurement has that property and \"False\" otherwise and then count those. Sometimes I might guess a possible property that might exist or be interesting and try to measure that.\n",
      "\n",
      "This does not leave me at all confident I found all of the different ways that measurements manifest. If I had more time I would have looked at other facets of the data such as:\n",
      "* route changes between pairs over time\n",
      "* hop latency\n",
      "* hops common across many routes\n",
      "* aggregate behavior of hops over time\n",
      "But I don't have enough time to investigate those things.\n",
      "\n",
      "I'm not even confident I know what you mean when you say \"qualitatively different way\" and if the classes of measurements I describe are even close to the ones you had in mind. More on that below.\n",
      "\n",
      "**How much time did you spend on this assignment?**\n",
      "\n",
      "I spent about 7 hours, with probably about 4 hours of it spent on just parsing the data alone.\n",
      "\n",
      "**What additional data or meta-data did you find you wished this dataset had included (if any)?**\n",
      "\n",
      "It would have been nice to see a description of the experimental setup that had been used to gather the measurements so that I didn't have to try and infer those things about the sources and destinations myself.\n",
      "\n",
      "**(Optional:) Any comments on the assignment? Was it illuminating/frustrating/fun/boring? What would improve it?**\n",
      "\n",
      "Here are two issues that could be improved upon:\n",
      "\n",
      "1. I didn't really understand what you had in mind by question 2. Specifically, the phrasing \"in what ways do some of the measurements differ\" and \"for each qualitatively different way\" encompasses far too many possible paths of analysis. Do you mean different based on hop latencies? Based on number of hops? Based on errors that appear? Based on paths through the network? Based on stability over time? There are very many facets of the data and investigating them all would take way more time than I think you intended us to spend on this assignment based on what you said in class. So I tried to guess some of the ways but there are many aspects I mentioned above that I didn't investigate and I have no idea if you wanted us to investigate those instead of the things I did investigate.\n",
      "2. I also think this assignment took longer than you said it should and that parsing the data was the biggest annoyance and took a lot longer than I wanted to spend on it. It might help in the future to provide a pre-parsed data set (I have in mind basically serialized versions of the objects I define above).\n",
      "\n",
      "That said, overall it was pretty fun. I enjoyed doing it and I wish I had more time to spend on it."
     ]
    }
   ],
   "metadata": {}
  }
 ]
}